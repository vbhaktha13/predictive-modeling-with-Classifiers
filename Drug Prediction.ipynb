{
 "cells": [
  {
   "cell_type": "markdown",
   "metadata": {
    "colab_type": "text",
    "id": "kvpbUgMKgUbU"
   },
   "source": [
    "# Project drug prediction using classifiers including Naive Bayes"
   ]
  },
  {
   "cell_type": "code",
   "execution_count": 1,
   "metadata": {},
   "outputs": [],
   "source": [
    "import pandas as pd                                                 # Importing for panel data analysis\n",
    "from pandas_profiling import ProfileReport                          # Import Pandas Profiling (To generate Univariate Analysis) \n",
    "pd.set_option('display.max_columns', None)                          # Unfolding hidden features if the cardinality is high      \n",
    "pd.set_option('display.max_colwidth', None)                         # Unfolding the max feature width for better clearity      \n",
    "pd.set_option('display.max_rows', None)                             # Unfolding hidden data points if the cardinality is high\n",
    "pd.set_option('mode.chained_assignment', None)                      # Removing restriction over chained assignments operations\n",
    "pd.set_option('display.float_format', lambda x: '%.5f' % x)         # To suppress scientific notation over exponential values\n",
    "#-------------------------------------------------------------------------------------------------------------------------------\n",
    "import numpy as np                                                  # Importing package numpys (For Numerical Python)\n",
    "#-------------------------------------------------------------------------------------------------------------------------------\n",
    "import matplotlib.pyplot as plt                                     # Importing pyplot interface using matplotlib\n",
    "from matplotlib.pylab import rcParams                               # Backend used for rendering and GUI integration                                               \n",
    "import seaborn as sns                                               # Importin seaborm library for interactive visualization\n",
    "%matplotlib inline\n",
    "import pylab as pl\n",
    "import matplotlib.pyplot as plt \n",
    "%matplotlib inline\n",
    "import seaborn as sns\n",
    "from sklearn.metrics import confusion_matrix,classification_report\n",
    "\n",
    "#-------------------------------------------------------------------------------------------------------------------------------\n",
    "from sklearn.metrics import accuracy_score                          # For calculating the accuracy for the model\n",
    "from sklearn.metrics import precision_score                         # For calculating the Precision of the model\n",
    "from sklearn.metrics import recall_score                            # For calculating the recall of the model\n",
    "from sklearn.metrics import precision_recall_curve                  # For precision and recall metric estimation\n",
    "from sklearn.metrics import confusion_matrix                        # For verifying model performance using confusion matrix\n",
    "from sklearn.metrics import f1_score                                # For Checking the F1-Score of our model  \n",
    "from sklearn.metrics import roc_curve                               # For Roc-Auc metric estimation\n",
    "#-------------------------------------------------------------------------------------------------------------------------------\n",
    "from sklearn.model_selection import train_test_split                # To split the data in training and testing part     \n",
    "from sklearn.linear_model import LogisticRegression                 # To create the Logistic Regression Model\n",
    "#-------------------------------------------------------------------------------------------------------------------------------\n",
    "import warnings                                                     # Importing warning to disable runtime warnings\n",
    "warnings.filterwarnings(\"ignore\")                                   # Warnings will appear only once"
   ]
  },
  {
   "cell_type": "markdown",
   "metadata": {
    "colab_type": "text",
    "id": "fbeao_YuDk7k"
   },
   "source": [
    "## Drug Prediction"
   ]
  },
  {
   "cell_type": "markdown",
   "metadata": {
    "colab_type": "text",
    "id": "3uT76VSnDk7l"
   },
   "source": [
    "- The dataset consist of features which are measured from a physical tests on patients with chronic throat infections.\n",
    "\n",
    "- They describe characteristics of the **chronic throat infection patient** using above tests.\n",
    "\n",
    "- Attribute Information:\n",
    "  \n",
    "  - **Id** number\n",
    "\n",
    "  - Y variable is **Drug** (X,Y, A, B, C) used to treat the throat infection of patients based on certain criterion using above measured physical test results\n",
    "\n",
    "<br> "
   ]
  },
  {
   "cell_type": "markdown",
   "metadata": {
    "colab_type": "text",
    "id": "SIu1hXr0Dk7m"
   },
   "source": [
    "- 6 real-valued features are computed for each person:\n",
    "\n",
    "| **Column Name** | **Description** |\n",
    "|:---------------:|:---------------:|\n",
    "| **Id** | Unique Id of the sample. |\n",
    "| **Age** | Age of the person. |\n",
    "| **Sex** | The sex of the person(M and F). |\n",
    "| **BP** | Blood pressure of the person. |\n",
    "| **Cholestrol** | The level of cholesterol in a person's body. |\n",
    "| **Na_to_K** | Sodium and potassium ratio |\n",
    "| **Drug** | Contains 5 classes of drugs (drug A, drug B, drug C, drug X, drug Y). |\n",
    "\n",
    "<br> "
   ]
  },
  {
   "cell_type": "markdown",
   "metadata": {
    "colab_type": "text",
    "id": "H6dDsgYsDk7n"
   },
   "source": [
    "- As you can see we have **7 base column** names mentioned above.\n",
    "- Age and Na_to-K are numerical columns\n",
    "- Drug candidates and Sex BP, Cholestrol are categorical\n",
    "- All feature values are recoded with **3 significant** digits.\n",
    "- Missing attribute values: **none**\n",
    "- Class distribution: multiclass Drug candidates X, Y, A, B, C"
   ]
  },
  {
   "cell_type": "markdown",
   "metadata": {
    "colab_type": "text",
    "id": "GZHHn6QIgUbY"
   },
   "source": [
    "### Import the dataset"
   ]
  },
  {
   "cell_type": "code",
   "execution_count": 2,
   "metadata": {
    "colab": {},
    "colab_type": "code",
    "id": "ePjJ1y9iEG7s"
   },
   "outputs": [],
   "source": [
    "import pandas as pd"
   ]
  },
  {
   "cell_type": "code",
   "execution_count": 3,
   "metadata": {
    "colab": {},
    "colab_type": "code",
    "id": "hj8UmUJeU8tO"
   },
   "outputs": [
    {
     "data": {
      "text/html": [
       "<div>\n",
       "<style scoped>\n",
       "    .dataframe tbody tr th:only-of-type {\n",
       "        vertical-align: middle;\n",
       "    }\n",
       "\n",
       "    .dataframe tbody tr th {\n",
       "        vertical-align: top;\n",
       "    }\n",
       "\n",
       "    .dataframe thead th {\n",
       "        text-align: right;\n",
       "    }\n",
       "</style>\n",
       "<table border=\"1\" class=\"dataframe\">\n",
       "  <thead>\n",
       "    <tr style=\"text-align: right;\">\n",
       "      <th></th>\n",
       "      <th>Id</th>\n",
       "      <th>Age</th>\n",
       "      <th>Sex</th>\n",
       "      <th>BP</th>\n",
       "      <th>Cholesterol</th>\n",
       "      <th>Na_to_K</th>\n",
       "      <th>Drug</th>\n",
       "    </tr>\n",
       "  </thead>\n",
       "  <tbody>\n",
       "    <tr>\n",
       "      <th>0</th>\n",
       "      <td>79</td>\n",
       "      <td>32</td>\n",
       "      <td>F</td>\n",
       "      <td>LOW</td>\n",
       "      <td>NORMAL</td>\n",
       "      <td>10.84000</td>\n",
       "      <td>drugX</td>\n",
       "    </tr>\n",
       "    <tr>\n",
       "      <th>1</th>\n",
       "      <td>197</td>\n",
       "      <td>52</td>\n",
       "      <td>M</td>\n",
       "      <td>NORMAL</td>\n",
       "      <td>HIGH</td>\n",
       "      <td>9.89400</td>\n",
       "      <td>drugX</td>\n",
       "    </tr>\n",
       "    <tr>\n",
       "      <th>2</th>\n",
       "      <td>38</td>\n",
       "      <td>39</td>\n",
       "      <td>F</td>\n",
       "      <td>NORMAL</td>\n",
       "      <td>NORMAL</td>\n",
       "      <td>9.70900</td>\n",
       "      <td>drugX</td>\n",
       "    </tr>\n",
       "    <tr>\n",
       "      <th>3</th>\n",
       "      <td>24</td>\n",
       "      <td>33</td>\n",
       "      <td>F</td>\n",
       "      <td>LOW</td>\n",
       "      <td>HIGH</td>\n",
       "      <td>33.48600</td>\n",
       "      <td>DrugY</td>\n",
       "    </tr>\n",
       "    <tr>\n",
       "      <th>4</th>\n",
       "      <td>122</td>\n",
       "      <td>34</td>\n",
       "      <td>M</td>\n",
       "      <td>NORMAL</td>\n",
       "      <td>HIGH</td>\n",
       "      <td>22.45600</td>\n",
       "      <td>DrugY</td>\n",
       "    </tr>\n",
       "  </tbody>\n",
       "</table>\n",
       "</div>"
      ],
      "text/plain": [
       "    Id  Age Sex      BP Cholesterol  Na_to_K   Drug\n",
       "0   79   32   F     LOW      NORMAL 10.84000  drugX\n",
       "1  197   52   M  NORMAL        HIGH  9.89400  drugX\n",
       "2   38   39   F  NORMAL      NORMAL  9.70900  drugX\n",
       "3   24   33   F     LOW        HIGH 33.48600  DrugY\n",
       "4  122   34   M  NORMAL        HIGH 22.45600  DrugY"
      ]
     },
     "execution_count": 3,
     "metadata": {},
     "output_type": "execute_result"
    }
   ],
   "source": [
    "drug_train = pd.read_csv('drug_train.csv')\n",
    "drug_test = pd.read_csv('drug_test.csv')\n",
    "drug_train.head()"
   ]
  },
  {
   "cell_type": "markdown",
   "metadata": {
    "colab_type": "text",
    "id": "hrb6eQU7gUbf"
   },
   "source": [
    "#### Check the shape of the dataset"
   ]
  },
  {
   "cell_type": "code",
   "execution_count": 4,
   "metadata": {
    "colab": {},
    "colab_type": "code",
    "id": "r-NdDTW3ylAu"
   },
   "outputs": [
    {
     "data": {
      "text/plain": [
       "(160, 7)"
      ]
     },
     "execution_count": 4,
     "metadata": {},
     "output_type": "execute_result"
    }
   ],
   "source": [
    "drug_train.shape"
   ]
  },
  {
   "cell_type": "markdown",
   "metadata": {
    "colab_type": "text",
    "id": "WXoLeO2BgUbo"
   },
   "source": [
    "#### Check the columns present in the dataset"
   ]
  },
  {
   "cell_type": "code",
   "execution_count": 5,
   "metadata": {
    "colab": {},
    "colab_type": "code",
    "id": "fzrXmgB6yrnK"
   },
   "outputs": [
    {
     "data": {
      "text/plain": [
       "Index(['Id', 'Age', 'Sex', 'BP', 'Cholesterol', 'Na_to_K', 'Drug'], dtype='object')"
      ]
     },
     "execution_count": 5,
     "metadata": {},
     "output_type": "execute_result"
    }
   ],
   "source": [
    "drug_train.columns"
   ]
  },
  {
   "cell_type": "markdown",
   "metadata": {
    "colab_type": "text",
    "id": "qDeBV_uHgUbw"
   },
   "source": [
    "#### Count of Drug variable."
   ]
  },
  {
   "cell_type": "code",
   "execution_count": 6,
   "metadata": {
    "colab": {},
    "colab_type": "code",
    "id": "5zrpNwB3gUbx"
   },
   "outputs": [
    {
     "data": {
      "text/plain": [
       "<AxesSubplot:>"
      ]
     },
     "execution_count": 6,
     "metadata": {},
     "output_type": "execute_result"
    },
    {
     "data": {
      "image/png": "[encoded data removed]",
      "text/plain": [
       "<Figure size 432x288 with 1 Axes>"
      ]
     },
     "metadata": {
      "needs_background": "light"
     },
     "output_type": "display_data"
    }
   ],
   "source": [
    "drug_train.Drug.value_counts().plot.bar()"
   ]
  },
  {
   "cell_type": "markdown",
   "metadata": {},
   "source": [
    "**Observations**\n",
    "- Class imbalance for drug A,drugB and C\n",
    "- SMOTe for oversampling 3 above classes and undersampling of drug Y will have to be done"
   ]
  },
  {
   "cell_type": "code",
   "execution_count": 7,
   "metadata": {},
   "outputs": [
    {
     "data": {
      "text/plain": [
       "<AxesSubplot:>"
      ]
     },
     "execution_count": 7,
     "metadata": {},
     "output_type": "execute_result"
    },
    {
     "data": {
      "image/png": "[encoded data removed]",
      "text/plain": [
       "<Figure size 432x288 with 1 Axes>"
      ]
     },
     "metadata": {
      "needs_background": "light"
     },
     "output_type": "display_data"
    }
   ],
   "source": [
    "drug_train.BP.value_counts().plot.bar()"
   ]
  },
  {
   "cell_type": "code",
   "execution_count": 8,
   "metadata": {},
   "outputs": [
    {
     "data": {
      "text/plain": [
       "<AxesSubplot:>"
      ]
     },
     "execution_count": 8,
     "metadata": {},
     "output_type": "execute_result"
    },
    {
     "data": {
      "image/png": "[encoded data removed]",
      "text/plain": [
       "<Figure size 432x288 with 1 Axes>"
      ]
     },
     "metadata": {
      "needs_background": "light"
     },
     "output_type": "display_data"
    }
   ],
   "source": [
    "drug_train.Cholesterol.value_counts().plot.bar()"
   ]
  },
  {
   "cell_type": "code",
   "execution_count": 9,
   "metadata": {},
   "outputs": [
    {
     "data": {
      "text/plain": [
       "<AxesSubplot:>"
      ]
     },
     "execution_count": 9,
     "metadata": {},
     "output_type": "execute_result"
    },
    {
     "data": {
      "image/png": "[encoded data removed]",
      "text/plain": [
       "<Figure size 432x288 with 1 Axes>"
      ]
     },
     "metadata": {
      "needs_background": "light"
     },
     "output_type": "display_data"
    }
   ],
   "source": [
    "drug_train.Sex.value_counts().plot.bar()"
   ]
  },
  {
   "cell_type": "code",
   "execution_count": 10,
   "metadata": {},
   "outputs": [
    {
     "data": {
      "text/plain": [
       "<AxesSubplot:>"
      ]
     },
     "execution_count": 10,
     "metadata": {},
     "output_type": "execute_result"
    },
    {
     "data": {
      "image/png": "[encoded data removed]",
      "text/plain": [
       "<Figure size 432x288 with 1 Axes>"
      ]
     },
     "metadata": {
      "needs_background": "light"
     },
     "output_type": "display_data"
    }
   ],
   "source": [
    "drug_test.BP.value_counts().plot.bar()"
   ]
  },
  {
   "cell_type": "code",
   "execution_count": 11,
   "metadata": {},
   "outputs": [
    {
     "data": {
      "text/plain": [
       "<AxesSubplot:>"
      ]
     },
     "execution_count": 11,
     "metadata": {},
     "output_type": "execute_result"
    },
    {
     "data": {
      "image/png": "[encoded data removed]",
      "text/plain": [
       "<Figure size 432x288 with 1 Axes>"
      ]
     },
     "metadata": {
      "needs_background": "light"
     },
     "output_type": "display_data"
    }
   ],
   "source": [
    "drug_test.Cholesterol.value_counts().plot.bar()"
   ]
  },
  {
   "cell_type": "code",
   "execution_count": 12,
   "metadata": {},
   "outputs": [
    {
     "data": {
      "text/plain": [
       "<AxesSubplot:>"
      ]
     },
     "execution_count": 12,
     "metadata": {},
     "output_type": "execute_result"
    },
    {
     "data": {
      "image/png": "[encoded data removed]",
      "text/plain": [
       "<Figure size 432x288 with 1 Axes>"
      ]
     },
     "metadata": {
      "needs_background": "light"
     },
     "output_type": "display_data"
    }
   ],
   "source": [
    "drug_test.Sex.value_counts().plot.bar()"
   ]
  },
  {
   "cell_type": "code",
   "execution_count": 13,
   "metadata": {},
   "outputs": [
    {
     "data": {
      "text/plain": [
       "18.29500    2\n",
       "29.87500    1\n",
       "15.51600    1\n",
       "7.34000     1\n",
       "7.26100     1\n",
       "29.27100    1\n",
       "19.01100    1\n",
       "9.71200     1\n",
       "25.96900    1\n",
       "10.44400    1\n",
       "7.29800     1\n",
       "11.19800    1\n",
       "12.49500    1\n",
       "11.42400    1\n",
       "19.36800    1\n",
       "9.84900     1\n",
       "8.75000     1\n",
       "19.00700    1\n",
       "12.76600    1\n",
       "27.05000    1\n",
       "11.34000    1\n",
       "8.70000     1\n",
       "12.89400    1\n",
       "13.59800    1\n",
       "13.31300    1\n",
       "11.93900    1\n",
       "11.45500    1\n",
       "33.54200    1\n",
       "14.16000    1\n",
       "24.27600    1\n",
       "8.10700     1\n",
       "12.85600    1\n",
       "28.29400    1\n",
       "10.83200    1\n",
       "11.68600    1\n",
       "24.65800    1\n",
       "10.06700    1\n",
       "20.90900    1\n",
       "12.87900    1\n",
       "Name: Na_to_K, dtype: int64"
      ]
     },
     "execution_count": 13,
     "metadata": {},
     "output_type": "execute_result"
    }
   ],
   "source": [
    " drug_test.Na_to_K.value_counts()"
   ]
  },
  {
   "cell_type": "markdown",
   "metadata": {
    "colab_type": "text",
    "id": "zURTOwDagUcA"
   },
   "source": [
    "#### Check the info of the dataset"
   ]
  },
  {
   "cell_type": "code",
   "execution_count": 14,
   "metadata": {
    "colab": {},
    "colab_type": "code",
    "id": "wMEGUMT0gUcB"
   },
   "outputs": [
    {
     "name": "stdout",
     "output_type": "stream",
     "text": [
      "<class 'pandas.core.frame.DataFrame'>\n",
      "RangeIndex: 160 entries, 0 to 159\n",
      "Data columns (total 7 columns):\n",
      " #   Column       Non-Null Count  Dtype  \n",
      "---  ------       --------------  -----  \n",
      " 0   Id           160 non-null    int64  \n",
      " 1   Age          160 non-null    int64  \n",
      " 2   Sex          160 non-null    object \n",
      " 3   BP           160 non-null    object \n",
      " 4   Cholesterol  160 non-null    object \n",
      " 5   Na_to_K      160 non-null    float64\n",
      " 6   Drug         160 non-null    object \n",
      "dtypes: float64(1), int64(2), object(4)\n",
      "memory usage: 8.9+ KB\n"
     ]
    }
   ],
   "source": [
    "drug_train.info()"
   ]
  },
  {
   "cell_type": "code",
   "execution_count": 15,
   "metadata": {},
   "outputs": [
    {
     "name": "stdout",
     "output_type": "stream",
     "text": [
      "<class 'pandas.core.frame.DataFrame'>\n",
      "RangeIndex: 40 entries, 0 to 39\n",
      "Data columns (total 6 columns):\n",
      " #   Column       Non-Null Count  Dtype  \n",
      "---  ------       --------------  -----  \n",
      " 0   Id           40 non-null     int64  \n",
      " 1   Age          40 non-null     int64  \n",
      " 2   Sex          40 non-null     object \n",
      " 3   BP           40 non-null     object \n",
      " 4   Cholesterol  40 non-null     object \n",
      " 5   Na_to_K      40 non-null     float64\n",
      "dtypes: float64(1), int64(2), object(3)\n",
      "memory usage: 2.0+ KB\n"
     ]
    }
   ],
   "source": [
    "drug_test.info()"
   ]
  },
  {
   "cell_type": "code",
   "execution_count": 16,
   "metadata": {},
   "outputs": [
    {
     "data": {
      "text/plain": [
       "<AxesSubplot:>"
      ]
     },
     "execution_count": 16,
     "metadata": {},
     "output_type": "execute_result"
    },
    {
     "data": {
      "image/png": "[encoded data removed]",
      "text/plain": [
       "<Figure size 432x288 with 1 Axes>"
      ]
     },
     "metadata": {
      "needs_background": "light"
     },
     "output_type": "display_data"
    }
   ],
   "source": [
    "drug_train['Age'].hist()"
   ]
  },
  {
   "cell_type": "code",
   "execution_count": 17,
   "metadata": {},
   "outputs": [
    {
     "data": {
      "text/plain": [
       "<AxesSubplot:>"
      ]
     },
     "execution_count": 17,
     "metadata": {},
     "output_type": "execute_result"
    },
    {
     "data": {
      "image/png": "[encoded data removed]",
      "text/plain": [
       "<Figure size 432x288 with 1 Axes>"
      ]
     },
     "metadata": {
      "needs_background": "light"
     },
     "output_type": "display_data"
    }
   ],
   "source": [
    "drug_test['Age'].hist()"
   ]
  },
  {
   "cell_type": "code",
   "execution_count": 18,
   "metadata": {},
   "outputs": [
    {
     "data": {
      "text/plain": [
       "<AxesSubplot:>"
      ]
     },
     "execution_count": 18,
     "metadata": {},
     "output_type": "execute_result"
    },
    {
     "data": {
      "image/png": "[encoded data removed]",
      "text/plain": [
       "<Figure size 432x288 with 1 Axes>"
      ]
     },
     "metadata": {
      "needs_background": "light"
     },
     "output_type": "display_data"
    }
   ],
   "source": [
    "drug_train['Na_to_K'].hist()"
   ]
  },
  {
   "cell_type": "code",
   "execution_count": 19,
   "metadata": {},
   "outputs": [
    {
     "data": {
      "text/plain": [
       "<AxesSubplot:>"
      ]
     },
     "execution_count": 19,
     "metadata": {},
     "output_type": "execute_result"
    },
    {
     "data": {
      "image/png": "[encoded data removed]",
      "text/plain": [
       "<Figure size 432x288 with 1 Axes>"
      ]
     },
     "metadata": {
      "needs_background": "light"
     },
     "output_type": "display_data"
    }
   ],
   "source": [
    "drug_test['Na_to_K'].hist()"
   ]
  },
  {
   "cell_type": "code",
   "execution_count": 20,
   "metadata": {},
   "outputs": [
    {
     "data": {
      "text/plain": [
       "<AxesSubplot:>"
      ]
     },
     "execution_count": 20,
     "metadata": {},
     "output_type": "execute_result"
    },
    {
     "data": {
      "image/png": "[encoded data removed]",
      "text/plain": [
       "<Figure size 432x288 with 1 Axes>"
      ]
     },
     "metadata": {
      "needs_background": "light"
     },
     "output_type": "display_data"
    }
   ],
   "source": [
    "drug_train.boxplot(column=[ 'Age', 'Na_to_K'])"
   ]
  },
  {
   "cell_type": "code",
   "execution_count": 21,
   "metadata": {},
   "outputs": [
    {
     "data": {
      "text/plain": [
       "<AxesSubplot:>"
      ]
     },
     "execution_count": 21,
     "metadata": {},
     "output_type": "execute_result"
    },
    {
     "data": {
      "image/png": "[encoded data removed]",
      "text/plain": [
       "<Figure size 432x288 with 1 Axes>"
      ]
     },
     "metadata": {
      "needs_background": "light"
     },
     "output_type": "display_data"
    }
   ],
   "source": [
    "drug_test.boxplot(column=[ 'Age', 'Na_to_K'])"
   ]
  },
  {
   "cell_type": "code",
   "execution_count": null,
   "metadata": {},
   "outputs": [],
   "source": []
  },
  {
   "cell_type": "markdown",
   "metadata": {
    "colab_type": "text",
    "id": "xnuivacigUb4"
   },
   "source": [
    "#### Check the descriptive statisticss of the dataset"
   ]
  },
  {
   "cell_type": "code",
   "execution_count": 22,
   "metadata": {},
   "outputs": [
    {
     "data": {
      "text/html": [
       "<div>\n",
       "<style scoped>\n",
       "    .dataframe tbody tr th:only-of-type {\n",
       "        vertical-align: middle;\n",
       "    }\n",
       "\n",
       "    .dataframe tbody tr th {\n",
       "        vertical-align: top;\n",
       "    }\n",
       "\n",
       "    .dataframe thead th {\n",
       "        text-align: right;\n",
       "    }\n",
       "</style>\n",
       "<table border=\"1\" class=\"dataframe\">\n",
       "  <thead>\n",
       "    <tr style=\"text-align: right;\">\n",
       "      <th></th>\n",
       "      <th>Id</th>\n",
       "      <th>Age</th>\n",
       "      <th>Sex</th>\n",
       "      <th>BP</th>\n",
       "      <th>Cholesterol</th>\n",
       "      <th>Na_to_K</th>\n",
       "      <th>Drug</th>\n",
       "    </tr>\n",
       "  </thead>\n",
       "  <tbody>\n",
       "    <tr>\n",
       "      <th>count</th>\n",
       "      <td>160.00000</td>\n",
       "      <td>160.00000</td>\n",
       "      <td>160</td>\n",
       "      <td>160</td>\n",
       "      <td>160</td>\n",
       "      <td>160.00000</td>\n",
       "      <td>160</td>\n",
       "    </tr>\n",
       "    <tr>\n",
       "      <th>unique</th>\n",
       "      <td>NaN</td>\n",
       "      <td>NaN</td>\n",
       "      <td>2</td>\n",
       "      <td>3</td>\n",
       "      <td>2</td>\n",
       "      <td>NaN</td>\n",
       "      <td>5</td>\n",
       "    </tr>\n",
       "    <tr>\n",
       "      <th>top</th>\n",
       "      <td>NaN</td>\n",
       "      <td>NaN</td>\n",
       "      <td>M</td>\n",
       "      <td>HIGH</td>\n",
       "      <td>HIGH</td>\n",
       "      <td>NaN</td>\n",
       "      <td>DrugY</td>\n",
       "    </tr>\n",
       "    <tr>\n",
       "      <th>freq</th>\n",
       "      <td>NaN</td>\n",
       "      <td>NaN</td>\n",
       "      <td>83</td>\n",
       "      <td>62</td>\n",
       "      <td>88</td>\n",
       "      <td>NaN</td>\n",
       "      <td>76</td>\n",
       "    </tr>\n",
       "    <tr>\n",
       "      <th>mean</th>\n",
       "      <td>99.07500</td>\n",
       "      <td>45.38750</td>\n",
       "      <td>NaN</td>\n",
       "      <td>NaN</td>\n",
       "      <td>NaN</td>\n",
       "      <td>16.19499</td>\n",
       "      <td>NaN</td>\n",
       "    </tr>\n",
       "    <tr>\n",
       "      <th>std</th>\n",
       "      <td>59.37489</td>\n",
       "      <td>16.10148</td>\n",
       "      <td>NaN</td>\n",
       "      <td>NaN</td>\n",
       "      <td>NaN</td>\n",
       "      <td>7.25469</td>\n",
       "      <td>NaN</td>\n",
       "    </tr>\n",
       "    <tr>\n",
       "      <th>min</th>\n",
       "      <td>0.00000</td>\n",
       "      <td>15.00000</td>\n",
       "      <td>NaN</td>\n",
       "      <td>NaN</td>\n",
       "      <td>NaN</td>\n",
       "      <td>6.26900</td>\n",
       "      <td>NaN</td>\n",
       "    </tr>\n",
       "    <tr>\n",
       "      <th>25%</th>\n",
       "      <td>45.50000</td>\n",
       "      <td>32.00000</td>\n",
       "      <td>NaN</td>\n",
       "      <td>NaN</td>\n",
       "      <td>NaN</td>\n",
       "      <td>10.44525</td>\n",
       "      <td>NaN</td>\n",
       "    </tr>\n",
       "    <tr>\n",
       "      <th>50%</th>\n",
       "      <td>100.50000</td>\n",
       "      <td>46.00000</td>\n",
       "      <td>NaN</td>\n",
       "      <td>NaN</td>\n",
       "      <td>NaN</td>\n",
       "      <td>14.07650</td>\n",
       "      <td>NaN</td>\n",
       "    </tr>\n",
       "    <tr>\n",
       "      <th>75%</th>\n",
       "      <td>149.50000</td>\n",
       "      <td>58.25000</td>\n",
       "      <td>NaN</td>\n",
       "      <td>NaN</td>\n",
       "      <td>NaN</td>\n",
       "      <td>19.48075</td>\n",
       "      <td>NaN</td>\n",
       "    </tr>\n",
       "    <tr>\n",
       "      <th>max</th>\n",
       "      <td>199.00000</td>\n",
       "      <td>74.00000</td>\n",
       "      <td>NaN</td>\n",
       "      <td>NaN</td>\n",
       "      <td>NaN</td>\n",
       "      <td>38.24700</td>\n",
       "      <td>NaN</td>\n",
       "    </tr>\n",
       "  </tbody>\n",
       "</table>\n",
       "</div>"
      ],
      "text/plain": [
       "              Id       Age  Sex    BP Cholesterol   Na_to_K   Drug\n",
       "count  160.00000 160.00000  160   160         160 160.00000    160\n",
       "unique       NaN       NaN    2     3           2       NaN      5\n",
       "top          NaN       NaN    M  HIGH        HIGH       NaN  DrugY\n",
       "freq         NaN       NaN   83    62          88       NaN     76\n",
       "mean    99.07500  45.38750  NaN   NaN         NaN  16.19499    NaN\n",
       "std     59.37489  16.10148  NaN   NaN         NaN   7.25469    NaN\n",
       "min      0.00000  15.00000  NaN   NaN         NaN   6.26900    NaN\n",
       "25%     45.50000  32.00000  NaN   NaN         NaN  10.44525    NaN\n",
       "50%    100.50000  46.00000  NaN   NaN         NaN  14.07650    NaN\n",
       "75%    149.50000  58.25000  NaN   NaN         NaN  19.48075    NaN\n",
       "max    199.00000  74.00000  NaN   NaN         NaN  38.24700    NaN"
      ]
     },
     "execution_count": 22,
     "metadata": {},
     "output_type": "execute_result"
    }
   ],
   "source": [
    "drug_train.describe(include='all')"
   ]
  },
  {
   "cell_type": "code",
   "execution_count": 23,
   "metadata": {
    "colab": {},
    "colab_type": "code",
    "id": "LBwzWJu7gUb5"
   },
   "outputs": [
    {
     "data": {
      "text/html": [
       "<div>\n",
       "<style scoped>\n",
       "    .dataframe tbody tr th:only-of-type {\n",
       "        vertical-align: middle;\n",
       "    }\n",
       "\n",
       "    .dataframe tbody tr th {\n",
       "        vertical-align: top;\n",
       "    }\n",
       "\n",
       "    .dataframe thead th {\n",
       "        text-align: right;\n",
       "    }\n",
       "</style>\n",
       "<table border=\"1\" class=\"dataframe\">\n",
       "  <thead>\n",
       "    <tr style=\"text-align: right;\">\n",
       "      <th></th>\n",
       "      <th>Id</th>\n",
       "      <th>Age</th>\n",
       "      <th>Sex</th>\n",
       "      <th>BP</th>\n",
       "      <th>Cholesterol</th>\n",
       "      <th>Na_to_K</th>\n",
       "    </tr>\n",
       "  </thead>\n",
       "  <tbody>\n",
       "    <tr>\n",
       "      <th>count</th>\n",
       "      <td>40.00000</td>\n",
       "      <td>40.00000</td>\n",
       "      <td>40</td>\n",
       "      <td>40</td>\n",
       "      <td>40</td>\n",
       "      <td>40.00000</td>\n",
       "    </tr>\n",
       "    <tr>\n",
       "      <th>unique</th>\n",
       "      <td>NaN</td>\n",
       "      <td>NaN</td>\n",
       "      <td>2</td>\n",
       "      <td>3</td>\n",
       "      <td>2</td>\n",
       "      <td>NaN</td>\n",
       "    </tr>\n",
       "    <tr>\n",
       "      <th>top</th>\n",
       "      <td>NaN</td>\n",
       "      <td>NaN</td>\n",
       "      <td>M</td>\n",
       "      <td>LOW</td>\n",
       "      <td>NORMAL</td>\n",
       "      <td>NaN</td>\n",
       "    </tr>\n",
       "    <tr>\n",
       "      <th>freq</th>\n",
       "      <td>NaN</td>\n",
       "      <td>NaN</td>\n",
       "      <td>21</td>\n",
       "      <td>17</td>\n",
       "      <td>25</td>\n",
       "      <td>NaN</td>\n",
       "    </tr>\n",
       "    <tr>\n",
       "      <th>mean</th>\n",
       "      <td>101.20000</td>\n",
       "      <td>40.02500</td>\n",
       "      <td>NaN</td>\n",
       "      <td>NaN</td>\n",
       "      <td>NaN</td>\n",
       "      <td>15.64247</td>\n",
       "    </tr>\n",
       "    <tr>\n",
       "      <th>std</th>\n",
       "      <td>52.12667</td>\n",
       "      <td>17.77853</td>\n",
       "      <td>NaN</td>\n",
       "      <td>NaN</td>\n",
       "      <td>NaN</td>\n",
       "      <td>7.17349</td>\n",
       "    </tr>\n",
       "    <tr>\n",
       "      <th>min</th>\n",
       "      <td>9.00000</td>\n",
       "      <td>16.00000</td>\n",
       "      <td>NaN</td>\n",
       "      <td>NaN</td>\n",
       "      <td>NaN</td>\n",
       "      <td>7.26100</td>\n",
       "    </tr>\n",
       "    <tr>\n",
       "      <th>25%</th>\n",
       "      <td>65.75000</td>\n",
       "      <td>24.50000</td>\n",
       "      <td>NaN</td>\n",
       "      <td>NaN</td>\n",
       "      <td>NaN</td>\n",
       "      <td>10.73500</td>\n",
       "    </tr>\n",
       "    <tr>\n",
       "      <th>50%</th>\n",
       "      <td>94.00000</td>\n",
       "      <td>38.00000</td>\n",
       "      <td>NaN</td>\n",
       "      <td>NaN</td>\n",
       "      <td>NaN</td>\n",
       "      <td>12.86750</td>\n",
       "    </tr>\n",
       "    <tr>\n",
       "      <th>75%</th>\n",
       "      <td>148.50000</td>\n",
       "      <td>53.25000</td>\n",
       "      <td>NaN</td>\n",
       "      <td>NaN</td>\n",
       "      <td>NaN</td>\n",
       "      <td>19.10025</td>\n",
       "    </tr>\n",
       "    <tr>\n",
       "      <th>max</th>\n",
       "      <td>186.00000</td>\n",
       "      <td>74.00000</td>\n",
       "      <td>NaN</td>\n",
       "      <td>NaN</td>\n",
       "      <td>NaN</td>\n",
       "      <td>33.54200</td>\n",
       "    </tr>\n",
       "  </tbody>\n",
       "</table>\n",
       "</div>"
      ],
      "text/plain": [
       "              Id      Age  Sex   BP Cholesterol  Na_to_K\n",
       "count   40.00000 40.00000   40   40          40 40.00000\n",
       "unique       NaN      NaN    2    3           2      NaN\n",
       "top          NaN      NaN    M  LOW      NORMAL      NaN\n",
       "freq         NaN      NaN   21   17          25      NaN\n",
       "mean   101.20000 40.02500  NaN  NaN         NaN 15.64247\n",
       "std     52.12667 17.77853  NaN  NaN         NaN  7.17349\n",
       "min      9.00000 16.00000  NaN  NaN         NaN  7.26100\n",
       "25%     65.75000 24.50000  NaN  NaN         NaN 10.73500\n",
       "50%     94.00000 38.00000  NaN  NaN         NaN 12.86750\n",
       "75%    148.50000 53.25000  NaN  NaN         NaN 19.10025\n",
       "max    186.00000 74.00000  NaN  NaN         NaN 33.54200"
      ]
     },
     "execution_count": 23,
     "metadata": {},
     "output_type": "execute_result"
    }
   ],
   "source": [
    "drug_test.describe(include='all')"
   ]
  },
  {
   "cell_type": "markdown",
   "metadata": {
    "colab_type": "text",
    "id": "ZexY9rmzgUcK"
   },
   "source": [
    "###  Write code to check the missing values present in the dataset. "
   ]
  },
  {
   "cell_type": "code",
   "execution_count": 24,
   "metadata": {
    "colab": {},
    "colab_type": "code",
    "id": "mz6ovEEigUcL"
   },
   "outputs": [
    {
     "data": {
      "text/plain": [
       "Id             0\n",
       "Age            0\n",
       "Sex            0\n",
       "BP             0\n",
       "Cholesterol    0\n",
       "Na_to_K        0\n",
       "Drug           0\n",
       "dtype: int64"
      ]
     },
     "execution_count": 24,
     "metadata": {},
     "output_type": "execute_result"
    }
   ],
   "source": [
    "\n",
    " drug_train.isnull().sum()\n",
    "    "
   ]
  },
  {
   "cell_type": "code",
   "execution_count": 25,
   "metadata": {},
   "outputs": [
    {
     "data": {
      "text/plain": [
       "Id             0\n",
       "Age            0\n",
       "Sex            0\n",
       "BP             0\n",
       "Cholesterol    0\n",
       "Na_to_K        0\n",
       "dtype: int64"
      ]
     },
     "execution_count": 25,
     "metadata": {},
     "output_type": "execute_result"
    }
   ],
   "source": [
    "drug_test.isnull().sum()"
   ]
  },
  {
   "cell_type": "markdown",
   "metadata": {
    "colab_type": "text",
    "id": "aCtF5n4BgUcX"
   },
   "source": [
    "### Convert the categorical variable `Sex` and 'Cholestrol' to binary (0 and 1 values) using the map function. "
   ]
  },
  {
   "cell_type": "code",
   "execution_count": 26,
   "metadata": {
    "colab": {},
    "colab_type": "code",
    "id": "kKzBlTm-gUcY"
   },
   "outputs": [
    {
     "data": {
      "text/plain": [
       "1    83\n",
       "0    77\n",
       "Name: Sex, dtype: int64"
      ]
     },
     "execution_count": 26,
     "metadata": {},
     "output_type": "execute_result"
    }
   ],
   "source": [
    "def generate():\n",
    "    \n",
    "    drug_train['Sex']= drug_train['Sex'].map({'F': 0, 'M': 1})\n",
    "    return drug_train['Sex']\n",
    "drug_train['Sex'] = generate()\n",
    "drug_train['Sex'].value_counts()"
   ]
  },
  {
   "cell_type": "code",
   "execution_count": 27,
   "metadata": {},
   "outputs": [
    {
     "data": {
      "text/plain": [
       "1    21\n",
       "0    19\n",
       "Name: Sex, dtype: int64"
      ]
     },
     "execution_count": 27,
     "metadata": {},
     "output_type": "execute_result"
    }
   ],
   "source": [
    "def generate():\n",
    "    \n",
    "    drug_test['Sex']= drug_test['Sex'].map({'F': 0, 'M': 1})\n",
    "    return drug_test['Sex']\n",
    "drug_test['Sex'] = generate()\n",
    "drug_test['Sex'].value_counts()"
   ]
  },
  {
   "cell_type": "code",
   "execution_count": 28,
   "metadata": {},
   "outputs": [
    {
     "data": {
      "text/plain": [
       "0    88\n",
       "1    72\n",
       "Name: Cholesterol, dtype: int64"
      ]
     },
     "execution_count": 28,
     "metadata": {},
     "output_type": "execute_result"
    }
   ],
   "source": [
    "def generate():\n",
    "    \n",
    "    drug_train['Cholesterol']= drug_train['Cholesterol'].map({'HIGH': 0, 'NORMAL': 1})\n",
    "    return drug_train['Cholesterol']\n",
    "drug_train['Cholesterol'] = generate()\n",
    "drug_train['Cholesterol'].value_counts()"
   ]
  },
  {
   "cell_type": "code",
   "execution_count": 29,
   "metadata": {},
   "outputs": [
    {
     "data": {
      "text/plain": [
       "1    25\n",
       "0    15\n",
       "Name: Cholesterol, dtype: int64"
      ]
     },
     "execution_count": 29,
     "metadata": {},
     "output_type": "execute_result"
    }
   ],
   "source": [
    "def generate():\n",
    "    \n",
    "    drug_test['Cholesterol']= drug_test['Cholesterol'].map({'HIGH': 0, 'NORMAL': 1})\n",
    "    return drug_test['Cholesterol']\n",
    "drug_test['Cholesterol'] = generate()\n",
    "drug_test['Cholesterol'].value_counts()"
   ]
  },
  {
   "cell_type": "code",
   "execution_count": 30,
   "metadata": {},
   "outputs": [
    {
     "name": "stdout",
     "output_type": "stream",
     "text": [
      "0      False\n",
      "1      False\n",
      "2      False\n",
      "3      False\n",
      "4      False\n",
      "5      False\n",
      "6      False\n",
      "7      False\n",
      "8      False\n",
      "9      False\n",
      "10     False\n",
      "11     False\n",
      "12     False\n",
      "13     False\n",
      "14     False\n",
      "15     False\n",
      "16     False\n",
      "17     False\n",
      "18     False\n",
      "19     False\n",
      "20     False\n",
      "21     False\n",
      "22     False\n",
      "23     False\n",
      "24     False\n",
      "25     False\n",
      "26     False\n",
      "27     False\n",
      "28     False\n",
      "29     False\n",
      "30     False\n",
      "31     False\n",
      "32     False\n",
      "33     False\n",
      "34     False\n",
      "35     False\n",
      "36     False\n",
      "37     False\n",
      "38     False\n",
      "39     False\n",
      "40     False\n",
      "41     False\n",
      "42     False\n",
      "43     False\n",
      "44     False\n",
      "45     False\n",
      "46     False\n",
      "47     False\n",
      "48     False\n",
      "49     False\n",
      "50     False\n",
      "51     False\n",
      "52     False\n",
      "53     False\n",
      "54     False\n",
      "55     False\n",
      "56     False\n",
      "57     False\n",
      "58     False\n",
      "59     False\n",
      "60     False\n",
      "61     False\n",
      "62     False\n",
      "63     False\n",
      "64     False\n",
      "65     False\n",
      "66     False\n",
      "67     False\n",
      "68     False\n",
      "69     False\n",
      "70     False\n",
      "71     False\n",
      "72     False\n",
      "73     False\n",
      "74     False\n",
      "75     False\n",
      "76     False\n",
      "77     False\n",
      "78     False\n",
      "79     False\n",
      "80     False\n",
      "81     False\n",
      "82     False\n",
      "83     False\n",
      "84     False\n",
      "85     False\n",
      "86     False\n",
      "87     False\n",
      "88     False\n",
      "89     False\n",
      "90     False\n",
      "91     False\n",
      "92     False\n",
      "93     False\n",
      "94     False\n",
      "95     False\n",
      "96     False\n",
      "97     False\n",
      "98     False\n",
      "99     False\n",
      "100    False\n",
      "101    False\n",
      "102    False\n",
      "103    False\n",
      "104    False\n",
      "105    False\n",
      "106    False\n",
      "107    False\n",
      "108    False\n",
      "109    False\n",
      "110    False\n",
      "111    False\n",
      "112    False\n",
      "113    False\n",
      "114    False\n",
      "115    False\n",
      "116    False\n",
      "117    False\n",
      "118    False\n",
      "119    False\n",
      "120    False\n",
      "121    False\n",
      "122    False\n",
      "123    False\n",
      "124    False\n",
      "125    False\n",
      "126    False\n",
      "127    False\n",
      "128    False\n",
      "129    False\n",
      "130    False\n",
      "131    False\n",
      "132    False\n",
      "133    False\n",
      "134    False\n",
      "135    False\n",
      "136    False\n",
      "137    False\n",
      "138    False\n",
      "139    False\n",
      "140    False\n",
      "141    False\n",
      "142    False\n",
      "143    False\n",
      "144    False\n",
      "145    False\n",
      "146    False\n",
      "147    False\n",
      "148    False\n",
      "149    False\n",
      "150    False\n",
      "151    False\n",
      "152    False\n",
      "153    False\n",
      "154    False\n",
      "155    False\n",
      "156    False\n",
      "157    False\n",
      "158    False\n",
      "159    False\n",
      "dtype: bool\n"
     ]
    }
   ],
   "source": [
    "print(drug_train.duplicated())"
   ]
  },
  {
   "cell_type": "code",
   "execution_count": 31,
   "metadata": {},
   "outputs": [
    {
     "data": {
      "text/plain": [
       "0     False\n",
       "1     False\n",
       "2     False\n",
       "3     False\n",
       "4     False\n",
       "5     False\n",
       "6     False\n",
       "7     False\n",
       "8     False\n",
       "9     False\n",
       "10    False\n",
       "11    False\n",
       "12    False\n",
       "13    False\n",
       "14    False\n",
       "15    False\n",
       "16    False\n",
       "17    False\n",
       "18    False\n",
       "19    False\n",
       "20    False\n",
       "21    False\n",
       "22    False\n",
       "23    False\n",
       "24    False\n",
       "25    False\n",
       "26    False\n",
       "27    False\n",
       "28    False\n",
       "29    False\n",
       "30    False\n",
       "31    False\n",
       "32    False\n",
       "33    False\n",
       "34    False\n",
       "35    False\n",
       "36    False\n",
       "37    False\n",
       "38    False\n",
       "39    False\n",
       "dtype: bool"
      ]
     },
     "execution_count": 31,
     "metadata": {},
     "output_type": "execute_result"
    }
   ],
   "source": [
    "drug_test.duplicated()"
   ]
  },
  {
   "cell_type": "code",
   "execution_count": 32,
   "metadata": {},
   "outputs": [
    {
     "data": {
      "text/html": [
       "<div>\n",
       "<style scoped>\n",
       "    .dataframe tbody tr th:only-of-type {\n",
       "        vertical-align: middle;\n",
       "    }\n",
       "\n",
       "    .dataframe tbody tr th {\n",
       "        vertical-align: top;\n",
       "    }\n",
       "\n",
       "    .dataframe thead th {\n",
       "        text-align: right;\n",
       "    }\n",
       "</style>\n",
       "<table border=\"1\" class=\"dataframe\">\n",
       "  <thead>\n",
       "    <tr style=\"text-align: right;\">\n",
       "      <th></th>\n",
       "      <th>Id</th>\n",
       "      <th>Age</th>\n",
       "      <th>Sex</th>\n",
       "      <th>BP</th>\n",
       "      <th>Cholesterol</th>\n",
       "      <th>Na_to_K</th>\n",
       "      <th>Drug</th>\n",
       "    </tr>\n",
       "  </thead>\n",
       "  <tbody>\n",
       "    <tr>\n",
       "      <th>0</th>\n",
       "      <td>79</td>\n",
       "      <td>32</td>\n",
       "      <td>0</td>\n",
       "      <td>LOW</td>\n",
       "      <td>1</td>\n",
       "      <td>10.84000</td>\n",
       "      <td>drugX</td>\n",
       "    </tr>\n",
       "    <tr>\n",
       "      <th>1</th>\n",
       "      <td>197</td>\n",
       "      <td>52</td>\n",
       "      <td>1</td>\n",
       "      <td>NORMAL</td>\n",
       "      <td>0</td>\n",
       "      <td>9.89400</td>\n",
       "      <td>drugX</td>\n",
       "    </tr>\n",
       "    <tr>\n",
       "      <th>2</th>\n",
       "      <td>38</td>\n",
       "      <td>39</td>\n",
       "      <td>0</td>\n",
       "      <td>NORMAL</td>\n",
       "      <td>1</td>\n",
       "      <td>9.70900</td>\n",
       "      <td>drugX</td>\n",
       "    </tr>\n",
       "    <tr>\n",
       "      <th>3</th>\n",
       "      <td>24</td>\n",
       "      <td>33</td>\n",
       "      <td>0</td>\n",
       "      <td>LOW</td>\n",
       "      <td>0</td>\n",
       "      <td>33.48600</td>\n",
       "      <td>DrugY</td>\n",
       "    </tr>\n",
       "    <tr>\n",
       "      <th>4</th>\n",
       "      <td>122</td>\n",
       "      <td>34</td>\n",
       "      <td>1</td>\n",
       "      <td>NORMAL</td>\n",
       "      <td>0</td>\n",
       "      <td>22.45600</td>\n",
       "      <td>DrugY</td>\n",
       "    </tr>\n",
       "    <tr>\n",
       "      <th>5</th>\n",
       "      <td>195</td>\n",
       "      <td>56</td>\n",
       "      <td>0</td>\n",
       "      <td>LOW</td>\n",
       "      <td>0</td>\n",
       "      <td>11.56700</td>\n",
       "      <td>drugC</td>\n",
       "    </tr>\n",
       "    <tr>\n",
       "      <th>6</th>\n",
       "      <td>29</td>\n",
       "      <td>45</td>\n",
       "      <td>1</td>\n",
       "      <td>LOW</td>\n",
       "      <td>0</td>\n",
       "      <td>17.95100</td>\n",
       "      <td>DrugY</td>\n",
       "    </tr>\n",
       "    <tr>\n",
       "      <th>7</th>\n",
       "      <td>19</td>\n",
       "      <td>32</td>\n",
       "      <td>0</td>\n",
       "      <td>HIGH</td>\n",
       "      <td>1</td>\n",
       "      <td>25.97400</td>\n",
       "      <td>DrugY</td>\n",
       "    </tr>\n",
       "    <tr>\n",
       "      <th>8</th>\n",
       "      <td>143</td>\n",
       "      <td>74</td>\n",
       "      <td>1</td>\n",
       "      <td>HIGH</td>\n",
       "      <td>1</td>\n",
       "      <td>15.43600</td>\n",
       "      <td>DrugY</td>\n",
       "    </tr>\n",
       "    <tr>\n",
       "      <th>9</th>\n",
       "      <td>86</td>\n",
       "      <td>51</td>\n",
       "      <td>0</td>\n",
       "      <td>NORMAL</td>\n",
       "      <td>0</td>\n",
       "      <td>13.59700</td>\n",
       "      <td>drugX</td>\n",
       "    </tr>\n",
       "    <tr>\n",
       "      <th>10</th>\n",
       "      <td>114</td>\n",
       "      <td>20</td>\n",
       "      <td>0</td>\n",
       "      <td>NORMAL</td>\n",
       "      <td>1</td>\n",
       "      <td>9.28100</td>\n",
       "      <td>drugX</td>\n",
       "    </tr>\n",
       "    <tr>\n",
       "      <th>11</th>\n",
       "      <td>173</td>\n",
       "      <td>41</td>\n",
       "      <td>0</td>\n",
       "      <td>LOW</td>\n",
       "      <td>1</td>\n",
       "      <td>18.73900</td>\n",
       "      <td>DrugY</td>\n",
       "    </tr>\n",
       "    <tr>\n",
       "      <th>12</th>\n",
       "      <td>5</td>\n",
       "      <td>22</td>\n",
       "      <td>0</td>\n",
       "      <td>NORMAL</td>\n",
       "      <td>0</td>\n",
       "      <td>8.60700</td>\n",
       "      <td>drugX</td>\n",
       "    </tr>\n",
       "    <tr>\n",
       "      <th>13</th>\n",
       "      <td>126</td>\n",
       "      <td>66</td>\n",
       "      <td>1</td>\n",
       "      <td>HIGH</td>\n",
       "      <td>0</td>\n",
       "      <td>16.34700</td>\n",
       "      <td>DrugY</td>\n",
       "    </tr>\n",
       "    <tr>\n",
       "      <th>14</th>\n",
       "      <td>117</td>\n",
       "      <td>40</td>\n",
       "      <td>0</td>\n",
       "      <td>NORMAL</td>\n",
       "      <td>0</td>\n",
       "      <td>10.10300</td>\n",
       "      <td>drugX</td>\n",
       "    </tr>\n",
       "    <tr>\n",
       "      <th>15</th>\n",
       "      <td>73</td>\n",
       "      <td>41</td>\n",
       "      <td>0</td>\n",
       "      <td>NORMAL</td>\n",
       "      <td>1</td>\n",
       "      <td>22.90500</td>\n",
       "      <td>DrugY</td>\n",
       "    </tr>\n",
       "    <tr>\n",
       "      <th>16</th>\n",
       "      <td>140</td>\n",
       "      <td>49</td>\n",
       "      <td>1</td>\n",
       "      <td>HIGH</td>\n",
       "      <td>1</td>\n",
       "      <td>6.26900</td>\n",
       "      <td>drugA</td>\n",
       "    </tr>\n",
       "    <tr>\n",
       "      <th>17</th>\n",
       "      <td>98</td>\n",
       "      <td>20</td>\n",
       "      <td>1</td>\n",
       "      <td>HIGH</td>\n",
       "      <td>1</td>\n",
       "      <td>35.63900</td>\n",
       "      <td>DrugY</td>\n",
       "    </tr>\n",
       "    <tr>\n",
       "      <th>18</th>\n",
       "      <td>172</td>\n",
       "      <td>39</td>\n",
       "      <td>0</td>\n",
       "      <td>NORMAL</td>\n",
       "      <td>1</td>\n",
       "      <td>17.22500</td>\n",
       "      <td>DrugY</td>\n",
       "    </tr>\n",
       "    <tr>\n",
       "      <th>19</th>\n",
       "      <td>96</td>\n",
       "      <td>58</td>\n",
       "      <td>0</td>\n",
       "      <td>LOW</td>\n",
       "      <td>0</td>\n",
       "      <td>38.24700</td>\n",
       "      <td>DrugY</td>\n",
       "    </tr>\n",
       "    <tr>\n",
       "      <th>20</th>\n",
       "      <td>169</td>\n",
       "      <td>20</td>\n",
       "      <td>0</td>\n",
       "      <td>HIGH</td>\n",
       "      <td>0</td>\n",
       "      <td>11.26200</td>\n",
       "      <td>drugA</td>\n",
       "    </tr>\n",
       "    <tr>\n",
       "      <th>21</th>\n",
       "      <td>97</td>\n",
       "      <td>56</td>\n",
       "      <td>0</td>\n",
       "      <td>HIGH</td>\n",
       "      <td>0</td>\n",
       "      <td>25.39500</td>\n",
       "      <td>DrugY</td>\n",
       "    </tr>\n",
       "    <tr>\n",
       "      <th>22</th>\n",
       "      <td>31</td>\n",
       "      <td>74</td>\n",
       "      <td>1</td>\n",
       "      <td>HIGH</td>\n",
       "      <td>0</td>\n",
       "      <td>9.56700</td>\n",
       "      <td>drugB</td>\n",
       "    </tr>\n",
       "    <tr>\n",
       "      <th>23</th>\n",
       "      <td>12</td>\n",
       "      <td>43</td>\n",
       "      <td>1</td>\n",
       "      <td>LOW</td>\n",
       "      <td>0</td>\n",
       "      <td>15.37600</td>\n",
       "      <td>DrugY</td>\n",
       "    </tr>\n",
       "    <tr>\n",
       "      <th>24</th>\n",
       "      <td>35</td>\n",
       "      <td>46</td>\n",
       "      <td>1</td>\n",
       "      <td>NORMAL</td>\n",
       "      <td>1</td>\n",
       "      <td>7.28500</td>\n",
       "      <td>drugX</td>\n",
       "    </tr>\n",
       "    <tr>\n",
       "      <th>25</th>\n",
       "      <td>119</td>\n",
       "      <td>61</td>\n",
       "      <td>0</td>\n",
       "      <td>HIGH</td>\n",
       "      <td>0</td>\n",
       "      <td>25.47500</td>\n",
       "      <td>DrugY</td>\n",
       "    </tr>\n",
       "    <tr>\n",
       "      <th>26</th>\n",
       "      <td>42</td>\n",
       "      <td>50</td>\n",
       "      <td>1</td>\n",
       "      <td>NORMAL</td>\n",
       "      <td>1</td>\n",
       "      <td>15.79000</td>\n",
       "      <td>DrugY</td>\n",
       "    </tr>\n",
       "    <tr>\n",
       "      <th>27</th>\n",
       "      <td>189</td>\n",
       "      <td>64</td>\n",
       "      <td>1</td>\n",
       "      <td>HIGH</td>\n",
       "      <td>1</td>\n",
       "      <td>20.93200</td>\n",
       "      <td>DrugY</td>\n",
       "    </tr>\n",
       "    <tr>\n",
       "      <th>28</th>\n",
       "      <td>90</td>\n",
       "      <td>62</td>\n",
       "      <td>1</td>\n",
       "      <td>NORMAL</td>\n",
       "      <td>0</td>\n",
       "      <td>16.59400</td>\n",
       "      <td>DrugY</td>\n",
       "    </tr>\n",
       "    <tr>\n",
       "      <th>29</th>\n",
       "      <td>136</td>\n",
       "      <td>55</td>\n",
       "      <td>0</td>\n",
       "      <td>HIGH</td>\n",
       "      <td>0</td>\n",
       "      <td>10.97700</td>\n",
       "      <td>drugB</td>\n",
       "    </tr>\n",
       "    <tr>\n",
       "      <th>30</th>\n",
       "      <td>51</td>\n",
       "      <td>67</td>\n",
       "      <td>1</td>\n",
       "      <td>NORMAL</td>\n",
       "      <td>1</td>\n",
       "      <td>10.89800</td>\n",
       "      <td>drugX</td>\n",
       "    </tr>\n",
       "    <tr>\n",
       "      <th>31</th>\n",
       "      <td>127</td>\n",
       "      <td>35</td>\n",
       "      <td>1</td>\n",
       "      <td>NORMAL</td>\n",
       "      <td>1</td>\n",
       "      <td>7.84500</td>\n",
       "      <td>drugX</td>\n",
       "    </tr>\n",
       "    <tr>\n",
       "      <th>32</th>\n",
       "      <td>162</td>\n",
       "      <td>43</td>\n",
       "      <td>1</td>\n",
       "      <td>NORMAL</td>\n",
       "      <td>1</td>\n",
       "      <td>12.85900</td>\n",
       "      <td>drugX</td>\n",
       "    </tr>\n",
       "    <tr>\n",
       "      <th>33</th>\n",
       "      <td>41</td>\n",
       "      <td>58</td>\n",
       "      <td>0</td>\n",
       "      <td>HIGH</td>\n",
       "      <td>1</td>\n",
       "      <td>14.23900</td>\n",
       "      <td>drugB</td>\n",
       "    </tr>\n",
       "    <tr>\n",
       "      <th>34</th>\n",
       "      <td>118</td>\n",
       "      <td>32</td>\n",
       "      <td>0</td>\n",
       "      <td>HIGH</td>\n",
       "      <td>1</td>\n",
       "      <td>10.29200</td>\n",
       "      <td>drugA</td>\n",
       "    </tr>\n",
       "    <tr>\n",
       "      <th>35</th>\n",
       "      <td>113</td>\n",
       "      <td>65</td>\n",
       "      <td>0</td>\n",
       "      <td>LOW</td>\n",
       "      <td>1</td>\n",
       "      <td>13.76900</td>\n",
       "      <td>drugX</td>\n",
       "    </tr>\n",
       "    <tr>\n",
       "      <th>36</th>\n",
       "      <td>26</td>\n",
       "      <td>31</td>\n",
       "      <td>1</td>\n",
       "      <td>HIGH</td>\n",
       "      <td>0</td>\n",
       "      <td>30.36600</td>\n",
       "      <td>DrugY</td>\n",
       "    </tr>\n",
       "    <tr>\n",
       "      <th>37</th>\n",
       "      <td>139</td>\n",
       "      <td>69</td>\n",
       "      <td>0</td>\n",
       "      <td>NORMAL</td>\n",
       "      <td>0</td>\n",
       "      <td>10.06500</td>\n",
       "      <td>drugX</td>\n",
       "    </tr>\n",
       "    <tr>\n",
       "      <th>38</th>\n",
       "      <td>100</td>\n",
       "      <td>31</td>\n",
       "      <td>1</td>\n",
       "      <td>HIGH</td>\n",
       "      <td>1</td>\n",
       "      <td>11.87100</td>\n",
       "      <td>drugA</td>\n",
       "    </tr>\n",
       "    <tr>\n",
       "      <th>39</th>\n",
       "      <td>111</td>\n",
       "      <td>47</td>\n",
       "      <td>0</td>\n",
       "      <td>NORMAL</td>\n",
       "      <td>1</td>\n",
       "      <td>6.68300</td>\n",
       "      <td>drugX</td>\n",
       "    </tr>\n",
       "    <tr>\n",
       "      <th>40</th>\n",
       "      <td>2</td>\n",
       "      <td>47</td>\n",
       "      <td>1</td>\n",
       "      <td>LOW</td>\n",
       "      <td>0</td>\n",
       "      <td>10.11400</td>\n",
       "      <td>drugC</td>\n",
       "    </tr>\n",
       "    <tr>\n",
       "      <th>41</th>\n",
       "      <td>77</td>\n",
       "      <td>26</td>\n",
       "      <td>0</td>\n",
       "      <td>HIGH</td>\n",
       "      <td>1</td>\n",
       "      <td>19.16100</td>\n",
       "      <td>DrugY</td>\n",
       "    </tr>\n",
       "    <tr>\n",
       "      <th>42</th>\n",
       "      <td>46</td>\n",
       "      <td>37</td>\n",
       "      <td>0</td>\n",
       "      <td>HIGH</td>\n",
       "      <td>0</td>\n",
       "      <td>13.09100</td>\n",
       "      <td>drugA</td>\n",
       "    </tr>\n",
       "    <tr>\n",
       "      <th>43</th>\n",
       "      <td>187</td>\n",
       "      <td>47</td>\n",
       "      <td>1</td>\n",
       "      <td>HIGH</td>\n",
       "      <td>0</td>\n",
       "      <td>10.40300</td>\n",
       "      <td>drugA</td>\n",
       "    </tr>\n",
       "    <tr>\n",
       "      <th>44</th>\n",
       "      <td>191</td>\n",
       "      <td>23</td>\n",
       "      <td>1</td>\n",
       "      <td>HIGH</td>\n",
       "      <td>0</td>\n",
       "      <td>8.01100</td>\n",
       "      <td>drugA</td>\n",
       "    </tr>\n",
       "    <tr>\n",
       "      <th>45</th>\n",
       "      <td>85</td>\n",
       "      <td>59</td>\n",
       "      <td>1</td>\n",
       "      <td>HIGH</td>\n",
       "      <td>0</td>\n",
       "      <td>13.93500</td>\n",
       "      <td>drugB</td>\n",
       "    </tr>\n",
       "    <tr>\n",
       "      <th>46</th>\n",
       "      <td>161</td>\n",
       "      <td>57</td>\n",
       "      <td>0</td>\n",
       "      <td>HIGH</td>\n",
       "      <td>1</td>\n",
       "      <td>9.94500</td>\n",
       "      <td>drugB</td>\n",
       "    </tr>\n",
       "    <tr>\n",
       "      <th>47</th>\n",
       "      <td>36</td>\n",
       "      <td>32</td>\n",
       "      <td>1</td>\n",
       "      <td>HIGH</td>\n",
       "      <td>1</td>\n",
       "      <td>9.44500</td>\n",
       "      <td>drugA</td>\n",
       "    </tr>\n",
       "    <tr>\n",
       "      <th>48</th>\n",
       "      <td>190</td>\n",
       "      <td>58</td>\n",
       "      <td>1</td>\n",
       "      <td>HIGH</td>\n",
       "      <td>0</td>\n",
       "      <td>18.99100</td>\n",
       "      <td>DrugY</td>\n",
       "    </tr>\n",
       "    <tr>\n",
       "      <th>49</th>\n",
       "      <td>61</td>\n",
       "      <td>24</td>\n",
       "      <td>1</td>\n",
       "      <td>HIGH</td>\n",
       "      <td>1</td>\n",
       "      <td>9.47500</td>\n",
       "      <td>drugA</td>\n",
       "    </tr>\n",
       "    <tr>\n",
       "      <th>50</th>\n",
       "      <td>22</td>\n",
       "      <td>47</td>\n",
       "      <td>1</td>\n",
       "      <td>LOW</td>\n",
       "      <td>1</td>\n",
       "      <td>30.56800</td>\n",
       "      <td>DrugY</td>\n",
       "    </tr>\n",
       "    <tr>\n",
       "      <th>51</th>\n",
       "      <td>141</td>\n",
       "      <td>64</td>\n",
       "      <td>0</td>\n",
       "      <td>LOW</td>\n",
       "      <td>1</td>\n",
       "      <td>25.74100</td>\n",
       "      <td>DrugY</td>\n",
       "    </tr>\n",
       "    <tr>\n",
       "      <th>52</th>\n",
       "      <td>101</td>\n",
       "      <td>45</td>\n",
       "      <td>0</td>\n",
       "      <td>HIGH</td>\n",
       "      <td>0</td>\n",
       "      <td>12.85400</td>\n",
       "      <td>drugA</td>\n",
       "    </tr>\n",
       "    <tr>\n",
       "      <th>53</th>\n",
       "      <td>33</td>\n",
       "      <td>65</td>\n",
       "      <td>0</td>\n",
       "      <td>HIGH</td>\n",
       "      <td>1</td>\n",
       "      <td>31.87600</td>\n",
       "      <td>DrugY</td>\n",
       "    </tr>\n",
       "    <tr>\n",
       "      <th>54</th>\n",
       "      <td>11</td>\n",
       "      <td>34</td>\n",
       "      <td>0</td>\n",
       "      <td>HIGH</td>\n",
       "      <td>1</td>\n",
       "      <td>19.19900</td>\n",
       "      <td>DrugY</td>\n",
       "    </tr>\n",
       "    <tr>\n",
       "      <th>55</th>\n",
       "      <td>194</td>\n",
       "      <td>46</td>\n",
       "      <td>0</td>\n",
       "      <td>HIGH</td>\n",
       "      <td>0</td>\n",
       "      <td>34.68600</td>\n",
       "      <td>DrugY</td>\n",
       "    </tr>\n",
       "    <tr>\n",
       "      <th>56</th>\n",
       "      <td>159</td>\n",
       "      <td>34</td>\n",
       "      <td>0</td>\n",
       "      <td>LOW</td>\n",
       "      <td>1</td>\n",
       "      <td>12.92300</td>\n",
       "      <td>drugX</td>\n",
       "    </tr>\n",
       "    <tr>\n",
       "      <th>57</th>\n",
       "      <td>6</td>\n",
       "      <td>49</td>\n",
       "      <td>0</td>\n",
       "      <td>NORMAL</td>\n",
       "      <td>0</td>\n",
       "      <td>16.27500</td>\n",
       "      <td>DrugY</td>\n",
       "    </tr>\n",
       "    <tr>\n",
       "      <th>58</th>\n",
       "      <td>27</td>\n",
       "      <td>49</td>\n",
       "      <td>0</td>\n",
       "      <td>NORMAL</td>\n",
       "      <td>1</td>\n",
       "      <td>9.38100</td>\n",
       "      <td>drugX</td>\n",
       "    </tr>\n",
       "    <tr>\n",
       "      <th>59</th>\n",
       "      <td>120</td>\n",
       "      <td>28</td>\n",
       "      <td>1</td>\n",
       "      <td>NORMAL</td>\n",
       "      <td>0</td>\n",
       "      <td>27.06400</td>\n",
       "      <td>DrugY</td>\n",
       "    </tr>\n",
       "    <tr>\n",
       "      <th>60</th>\n",
       "      <td>4</td>\n",
       "      <td>61</td>\n",
       "      <td>0</td>\n",
       "      <td>LOW</td>\n",
       "      <td>0</td>\n",
       "      <td>18.04300</td>\n",
       "      <td>DrugY</td>\n",
       "    </tr>\n",
       "    <tr>\n",
       "      <th>61</th>\n",
       "      <td>32</td>\n",
       "      <td>49</td>\n",
       "      <td>1</td>\n",
       "      <td>LOW</td>\n",
       "      <td>1</td>\n",
       "      <td>11.01400</td>\n",
       "      <td>drugX</td>\n",
       "    </tr>\n",
       "    <tr>\n",
       "      <th>62</th>\n",
       "      <td>142</td>\n",
       "      <td>60</td>\n",
       "      <td>1</td>\n",
       "      <td>HIGH</td>\n",
       "      <td>1</td>\n",
       "      <td>8.62100</td>\n",
       "      <td>drugB</td>\n",
       "    </tr>\n",
       "    <tr>\n",
       "      <th>63</th>\n",
       "      <td>145</td>\n",
       "      <td>61</td>\n",
       "      <td>1</td>\n",
       "      <td>NORMAL</td>\n",
       "      <td>0</td>\n",
       "      <td>9.44300</td>\n",
       "      <td>drugX</td>\n",
       "    </tr>\n",
       "    <tr>\n",
       "      <th>64</th>\n",
       "      <td>109</td>\n",
       "      <td>23</td>\n",
       "      <td>1</td>\n",
       "      <td>NORMAL</td>\n",
       "      <td>0</td>\n",
       "      <td>16.85000</td>\n",
       "      <td>DrugY</td>\n",
       "    </tr>\n",
       "    <tr>\n",
       "      <th>65</th>\n",
       "      <td>144</td>\n",
       "      <td>39</td>\n",
       "      <td>1</td>\n",
       "      <td>HIGH</td>\n",
       "      <td>0</td>\n",
       "      <td>9.66400</td>\n",
       "      <td>drugA</td>\n",
       "    </tr>\n",
       "    <tr>\n",
       "      <th>66</th>\n",
       "      <td>10</td>\n",
       "      <td>47</td>\n",
       "      <td>0</td>\n",
       "      <td>LOW</td>\n",
       "      <td>0</td>\n",
       "      <td>11.76700</td>\n",
       "      <td>drugC</td>\n",
       "    </tr>\n",
       "    <tr>\n",
       "      <th>67</th>\n",
       "      <td>62</td>\n",
       "      <td>67</td>\n",
       "      <td>1</td>\n",
       "      <td>LOW</td>\n",
       "      <td>1</td>\n",
       "      <td>20.69300</td>\n",
       "      <td>DrugY</td>\n",
       "    </tr>\n",
       "    <tr>\n",
       "      <th>68</th>\n",
       "      <td>112</td>\n",
       "      <td>35</td>\n",
       "      <td>1</td>\n",
       "      <td>LOW</td>\n",
       "      <td>1</td>\n",
       "      <td>9.17000</td>\n",
       "      <td>drugX</td>\n",
       "    </tr>\n",
       "    <tr>\n",
       "      <th>69</th>\n",
       "      <td>146</td>\n",
       "      <td>37</td>\n",
       "      <td>0</td>\n",
       "      <td>LOW</td>\n",
       "      <td>1</td>\n",
       "      <td>12.00600</td>\n",
       "      <td>drugX</td>\n",
       "    </tr>\n",
       "    <tr>\n",
       "      <th>70</th>\n",
       "      <td>166</td>\n",
       "      <td>58</td>\n",
       "      <td>0</td>\n",
       "      <td>LOW</td>\n",
       "      <td>0</td>\n",
       "      <td>26.64500</td>\n",
       "      <td>DrugY</td>\n",
       "    </tr>\n",
       "    <tr>\n",
       "      <th>71</th>\n",
       "      <td>0</td>\n",
       "      <td>23</td>\n",
       "      <td>0</td>\n",
       "      <td>HIGH</td>\n",
       "      <td>0</td>\n",
       "      <td>25.35500</td>\n",
       "      <td>DrugY</td>\n",
       "    </tr>\n",
       "    <tr>\n",
       "      <th>72</th>\n",
       "      <td>198</td>\n",
       "      <td>23</td>\n",
       "      <td>1</td>\n",
       "      <td>NORMAL</td>\n",
       "      <td>1</td>\n",
       "      <td>14.02000</td>\n",
       "      <td>drugX</td>\n",
       "    </tr>\n",
       "    <tr>\n",
       "      <th>73</th>\n",
       "      <td>153</td>\n",
       "      <td>72</td>\n",
       "      <td>0</td>\n",
       "      <td>LOW</td>\n",
       "      <td>1</td>\n",
       "      <td>14.64200</td>\n",
       "      <td>drugX</td>\n",
       "    </tr>\n",
       "    <tr>\n",
       "      <th>74</th>\n",
       "      <td>70</td>\n",
       "      <td>70</td>\n",
       "      <td>1</td>\n",
       "      <td>HIGH</td>\n",
       "      <td>0</td>\n",
       "      <td>13.96700</td>\n",
       "      <td>drugB</td>\n",
       "    </tr>\n",
       "    <tr>\n",
       "      <th>75</th>\n",
       "      <td>123</td>\n",
       "      <td>36</td>\n",
       "      <td>0</td>\n",
       "      <td>NORMAL</td>\n",
       "      <td>0</td>\n",
       "      <td>16.75300</td>\n",
       "      <td>DrugY</td>\n",
       "    </tr>\n",
       "    <tr>\n",
       "      <th>76</th>\n",
       "      <td>64</td>\n",
       "      <td>60</td>\n",
       "      <td>0</td>\n",
       "      <td>HIGH</td>\n",
       "      <td>0</td>\n",
       "      <td>13.30300</td>\n",
       "      <td>drugB</td>\n",
       "    </tr>\n",
       "    <tr>\n",
       "      <th>77</th>\n",
       "      <td>44</td>\n",
       "      <td>50</td>\n",
       "      <td>0</td>\n",
       "      <td>NORMAL</td>\n",
       "      <td>1</td>\n",
       "      <td>12.29500</td>\n",
       "      <td>drugX</td>\n",
       "    </tr>\n",
       "    <tr>\n",
       "      <th>78</th>\n",
       "      <td>163</td>\n",
       "      <td>21</td>\n",
       "      <td>0</td>\n",
       "      <td>HIGH</td>\n",
       "      <td>1</td>\n",
       "      <td>28.63200</td>\n",
       "      <td>DrugY</td>\n",
       "    </tr>\n",
       "    <tr>\n",
       "      <th>79</th>\n",
       "      <td>28</td>\n",
       "      <td>39</td>\n",
       "      <td>0</td>\n",
       "      <td>LOW</td>\n",
       "      <td>1</td>\n",
       "      <td>22.69700</td>\n",
       "      <td>DrugY</td>\n",
       "    </tr>\n",
       "    <tr>\n",
       "      <th>80</th>\n",
       "      <td>40</td>\n",
       "      <td>73</td>\n",
       "      <td>0</td>\n",
       "      <td>NORMAL</td>\n",
       "      <td>0</td>\n",
       "      <td>19.22100</td>\n",
       "      <td>DrugY</td>\n",
       "    </tr>\n",
       "    <tr>\n",
       "      <th>81</th>\n",
       "      <td>108</td>\n",
       "      <td>72</td>\n",
       "      <td>1</td>\n",
       "      <td>HIGH</td>\n",
       "      <td>1</td>\n",
       "      <td>9.67700</td>\n",
       "      <td>drugB</td>\n",
       "    </tr>\n",
       "    <tr>\n",
       "      <th>82</th>\n",
       "      <td>155</td>\n",
       "      <td>49</td>\n",
       "      <td>1</td>\n",
       "      <td>LOW</td>\n",
       "      <td>0</td>\n",
       "      <td>10.53700</td>\n",
       "      <td>drugC</td>\n",
       "    </tr>\n",
       "    <tr>\n",
       "      <th>83</th>\n",
       "      <td>156</td>\n",
       "      <td>31</td>\n",
       "      <td>1</td>\n",
       "      <td>HIGH</td>\n",
       "      <td>1</td>\n",
       "      <td>11.22700</td>\n",
       "      <td>drugA</td>\n",
       "    </tr>\n",
       "    <tr>\n",
       "      <th>84</th>\n",
       "      <td>25</td>\n",
       "      <td>28</td>\n",
       "      <td>0</td>\n",
       "      <td>HIGH</td>\n",
       "      <td>1</td>\n",
       "      <td>18.80900</td>\n",
       "      <td>DrugY</td>\n",
       "    </tr>\n",
       "    <tr>\n",
       "      <th>85</th>\n",
       "      <td>23</td>\n",
       "      <td>48</td>\n",
       "      <td>0</td>\n",
       "      <td>LOW</td>\n",
       "      <td>0</td>\n",
       "      <td>15.03600</td>\n",
       "      <td>DrugY</td>\n",
       "    </tr>\n",
       "    <tr>\n",
       "      <th>86</th>\n",
       "      <td>184</td>\n",
       "      <td>18</td>\n",
       "      <td>0</td>\n",
       "      <td>HIGH</td>\n",
       "      <td>0</td>\n",
       "      <td>37.18800</td>\n",
       "      <td>DrugY</td>\n",
       "    </tr>\n",
       "    <tr>\n",
       "      <th>87</th>\n",
       "      <td>147</td>\n",
       "      <td>26</td>\n",
       "      <td>0</td>\n",
       "      <td>HIGH</td>\n",
       "      <td>1</td>\n",
       "      <td>12.30700</td>\n",
       "      <td>drugA</td>\n",
       "    </tr>\n",
       "    <tr>\n",
       "      <th>88</th>\n",
       "      <td>81</td>\n",
       "      <td>64</td>\n",
       "      <td>1</td>\n",
       "      <td>NORMAL</td>\n",
       "      <td>0</td>\n",
       "      <td>7.76100</td>\n",
       "      <td>drugX</td>\n",
       "    </tr>\n",
       "    <tr>\n",
       "      <th>89</th>\n",
       "      <td>39</td>\n",
       "      <td>15</td>\n",
       "      <td>1</td>\n",
       "      <td>NORMAL</td>\n",
       "      <td>0</td>\n",
       "      <td>9.08400</td>\n",
       "      <td>drugX</td>\n",
       "    </tr>\n",
       "    <tr>\n",
       "      <th>90</th>\n",
       "      <td>168</td>\n",
       "      <td>51</td>\n",
       "      <td>0</td>\n",
       "      <td>LOW</td>\n",
       "      <td>1</td>\n",
       "      <td>23.00300</td>\n",
       "      <td>DrugY</td>\n",
       "    </tr>\n",
       "    <tr>\n",
       "      <th>91</th>\n",
       "      <td>47</td>\n",
       "      <td>68</td>\n",
       "      <td>1</td>\n",
       "      <td>LOW</td>\n",
       "      <td>0</td>\n",
       "      <td>10.29100</td>\n",
       "      <td>drugC</td>\n",
       "    </tr>\n",
       "    <tr>\n",
       "      <th>92</th>\n",
       "      <td>94</td>\n",
       "      <td>56</td>\n",
       "      <td>1</td>\n",
       "      <td>LOW</td>\n",
       "      <td>0</td>\n",
       "      <td>15.01500</td>\n",
       "      <td>DrugY</td>\n",
       "    </tr>\n",
       "    <tr>\n",
       "      <th>93</th>\n",
       "      <td>154</td>\n",
       "      <td>37</td>\n",
       "      <td>1</td>\n",
       "      <td>LOW</td>\n",
       "      <td>1</td>\n",
       "      <td>16.72400</td>\n",
       "      <td>DrugY</td>\n",
       "    </tr>\n",
       "    <tr>\n",
       "      <th>94</th>\n",
       "      <td>43</td>\n",
       "      <td>23</td>\n",
       "      <td>1</td>\n",
       "      <td>NORMAL</td>\n",
       "      <td>0</td>\n",
       "      <td>12.26000</td>\n",
       "      <td>drugX</td>\n",
       "    </tr>\n",
       "    <tr>\n",
       "      <th>95</th>\n",
       "      <td>138</td>\n",
       "      <td>51</td>\n",
       "      <td>1</td>\n",
       "      <td>HIGH</td>\n",
       "      <td>1</td>\n",
       "      <td>11.34300</td>\n",
       "      <td>drugB</td>\n",
       "    </tr>\n",
       "    <tr>\n",
       "      <th>96</th>\n",
       "      <td>3</td>\n",
       "      <td>28</td>\n",
       "      <td>0</td>\n",
       "      <td>NORMAL</td>\n",
       "      <td>0</td>\n",
       "      <td>7.79800</td>\n",
       "      <td>drugX</td>\n",
       "    </tr>\n",
       "    <tr>\n",
       "      <th>97</th>\n",
       "      <td>105</td>\n",
       "      <td>37</td>\n",
       "      <td>1</td>\n",
       "      <td>LOW</td>\n",
       "      <td>1</td>\n",
       "      <td>8.96800</td>\n",
       "      <td>drugX</td>\n",
       "    </tr>\n",
       "    <tr>\n",
       "      <th>98</th>\n",
       "      <td>53</td>\n",
       "      <td>24</td>\n",
       "      <td>0</td>\n",
       "      <td>HIGH</td>\n",
       "      <td>1</td>\n",
       "      <td>18.45700</td>\n",
       "      <td>DrugY</td>\n",
       "    </tr>\n",
       "    <tr>\n",
       "      <th>99</th>\n",
       "      <td>133</td>\n",
       "      <td>24</td>\n",
       "      <td>1</td>\n",
       "      <td>NORMAL</td>\n",
       "      <td>0</td>\n",
       "      <td>25.78600</td>\n",
       "      <td>DrugY</td>\n",
       "    </tr>\n",
       "    <tr>\n",
       "      <th>100</th>\n",
       "      <td>180</td>\n",
       "      <td>22</td>\n",
       "      <td>0</td>\n",
       "      <td>HIGH</td>\n",
       "      <td>1</td>\n",
       "      <td>22.81800</td>\n",
       "      <td>DrugY</td>\n",
       "    </tr>\n",
       "    <tr>\n",
       "      <th>101</th>\n",
       "      <td>178</td>\n",
       "      <td>39</td>\n",
       "      <td>1</td>\n",
       "      <td>NORMAL</td>\n",
       "      <td>0</td>\n",
       "      <td>15.96900</td>\n",
       "      <td>DrugY</td>\n",
       "    </tr>\n",
       "    <tr>\n",
       "      <th>102</th>\n",
       "      <td>185</td>\n",
       "      <td>57</td>\n",
       "      <td>0</td>\n",
       "      <td>NORMAL</td>\n",
       "      <td>1</td>\n",
       "      <td>25.89300</td>\n",
       "      <td>DrugY</td>\n",
       "    </tr>\n",
       "    <tr>\n",
       "      <th>103</th>\n",
       "      <td>49</td>\n",
       "      <td>28</td>\n",
       "      <td>0</td>\n",
       "      <td>LOW</td>\n",
       "      <td>0</td>\n",
       "      <td>19.79600</td>\n",
       "      <td>DrugY</td>\n",
       "    </tr>\n",
       "    <tr>\n",
       "      <th>104</th>\n",
       "      <td>80</td>\n",
       "      <td>60</td>\n",
       "      <td>1</td>\n",
       "      <td>HIGH</td>\n",
       "      <td>0</td>\n",
       "      <td>13.93400</td>\n",
       "      <td>drugB</td>\n",
       "    </tr>\n",
       "    <tr>\n",
       "      <th>105</th>\n",
       "      <td>34</td>\n",
       "      <td>53</td>\n",
       "      <td>1</td>\n",
       "      <td>NORMAL</td>\n",
       "      <td>0</td>\n",
       "      <td>14.13300</td>\n",
       "      <td>drugX</td>\n",
       "    </tr>\n",
       "    <tr>\n",
       "      <th>106</th>\n",
       "      <td>7</td>\n",
       "      <td>41</td>\n",
       "      <td>1</td>\n",
       "      <td>LOW</td>\n",
       "      <td>0</td>\n",
       "      <td>11.03700</td>\n",
       "      <td>drugC</td>\n",
       "    </tr>\n",
       "    <tr>\n",
       "      <th>107</th>\n",
       "      <td>110</td>\n",
       "      <td>50</td>\n",
       "      <td>1</td>\n",
       "      <td>HIGH</td>\n",
       "      <td>0</td>\n",
       "      <td>7.49000</td>\n",
       "      <td>drugA</td>\n",
       "    </tr>\n",
       "    <tr>\n",
       "      <th>108</th>\n",
       "      <td>91</td>\n",
       "      <td>41</td>\n",
       "      <td>1</td>\n",
       "      <td>HIGH</td>\n",
       "      <td>1</td>\n",
       "      <td>15.15600</td>\n",
       "      <td>DrugY</td>\n",
       "    </tr>\n",
       "    <tr>\n",
       "      <th>109</th>\n",
       "      <td>83</td>\n",
       "      <td>38</td>\n",
       "      <td>0</td>\n",
       "      <td>HIGH</td>\n",
       "      <td>1</td>\n",
       "      <td>11.32600</td>\n",
       "      <td>drugA</td>\n",
       "    </tr>\n",
       "    <tr>\n",
       "      <th>110</th>\n",
       "      <td>176</td>\n",
       "      <td>48</td>\n",
       "      <td>1</td>\n",
       "      <td>HIGH</td>\n",
       "      <td>1</td>\n",
       "      <td>10.44600</td>\n",
       "      <td>drugA</td>\n",
       "    </tr>\n",
       "    <tr>\n",
       "      <th>111</th>\n",
       "      <td>181</td>\n",
       "      <td>59</td>\n",
       "      <td>0</td>\n",
       "      <td>NORMAL</td>\n",
       "      <td>0</td>\n",
       "      <td>13.88400</td>\n",
       "      <td>drugX</td>\n",
       "    </tr>\n",
       "    <tr>\n",
       "      <th>112</th>\n",
       "      <td>89</td>\n",
       "      <td>50</td>\n",
       "      <td>0</td>\n",
       "      <td>NORMAL</td>\n",
       "      <td>1</td>\n",
       "      <td>17.21100</td>\n",
       "      <td>DrugY</td>\n",
       "    </tr>\n",
       "    <tr>\n",
       "      <th>113</th>\n",
       "      <td>8</td>\n",
       "      <td>60</td>\n",
       "      <td>1</td>\n",
       "      <td>NORMAL</td>\n",
       "      <td>0</td>\n",
       "      <td>15.17100</td>\n",
       "      <td>DrugY</td>\n",
       "    </tr>\n",
       "    <tr>\n",
       "      <th>114</th>\n",
       "      <td>13</td>\n",
       "      <td>74</td>\n",
       "      <td>0</td>\n",
       "      <td>LOW</td>\n",
       "      <td>0</td>\n",
       "      <td>20.94200</td>\n",
       "      <td>DrugY</td>\n",
       "    </tr>\n",
       "    <tr>\n",
       "      <th>115</th>\n",
       "      <td>59</td>\n",
       "      <td>34</td>\n",
       "      <td>1</td>\n",
       "      <td>HIGH</td>\n",
       "      <td>0</td>\n",
       "      <td>18.70300</td>\n",
       "      <td>DrugY</td>\n",
       "    </tr>\n",
       "    <tr>\n",
       "      <th>116</th>\n",
       "      <td>171</td>\n",
       "      <td>45</td>\n",
       "      <td>1</td>\n",
       "      <td>LOW</td>\n",
       "      <td>1</td>\n",
       "      <td>10.01700</td>\n",
       "      <td>drugX</td>\n",
       "    </tr>\n",
       "    <tr>\n",
       "      <th>117</th>\n",
       "      <td>131</td>\n",
       "      <td>52</td>\n",
       "      <td>1</td>\n",
       "      <td>LOW</td>\n",
       "      <td>1</td>\n",
       "      <td>32.92200</td>\n",
       "      <td>DrugY</td>\n",
       "    </tr>\n",
       "    <tr>\n",
       "      <th>118</th>\n",
       "      <td>17</td>\n",
       "      <td>43</td>\n",
       "      <td>1</td>\n",
       "      <td>HIGH</td>\n",
       "      <td>0</td>\n",
       "      <td>13.97200</td>\n",
       "      <td>drugA</td>\n",
       "    </tr>\n",
       "    <tr>\n",
       "      <th>119</th>\n",
       "      <td>72</td>\n",
       "      <td>24</td>\n",
       "      <td>0</td>\n",
       "      <td>NORMAL</td>\n",
       "      <td>0</td>\n",
       "      <td>10.60500</td>\n",
       "      <td>drugX</td>\n",
       "    </tr>\n",
       "    <tr>\n",
       "      <th>120</th>\n",
       "      <td>175</td>\n",
       "      <td>73</td>\n",
       "      <td>0</td>\n",
       "      <td>HIGH</td>\n",
       "      <td>0</td>\n",
       "      <td>18.34800</td>\n",
       "      <td>DrugY</td>\n",
       "    </tr>\n",
       "    <tr>\n",
       "      <th>121</th>\n",
       "      <td>134</td>\n",
       "      <td>42</td>\n",
       "      <td>0</td>\n",
       "      <td>HIGH</td>\n",
       "      <td>0</td>\n",
       "      <td>21.03600</td>\n",
       "      <td>DrugY</td>\n",
       "    </tr>\n",
       "    <tr>\n",
       "      <th>122</th>\n",
       "      <td>167</td>\n",
       "      <td>57</td>\n",
       "      <td>0</td>\n",
       "      <td>NORMAL</td>\n",
       "      <td>0</td>\n",
       "      <td>14.21600</td>\n",
       "      <td>drugX</td>\n",
       "    </tr>\n",
       "    <tr>\n",
       "      <th>123</th>\n",
       "      <td>183</td>\n",
       "      <td>36</td>\n",
       "      <td>0</td>\n",
       "      <td>HIGH</td>\n",
       "      <td>1</td>\n",
       "      <td>15.49000</td>\n",
       "      <td>DrugY</td>\n",
       "    </tr>\n",
       "    <tr>\n",
       "      <th>124</th>\n",
       "      <td>63</td>\n",
       "      <td>45</td>\n",
       "      <td>1</td>\n",
       "      <td>LOW</td>\n",
       "      <td>1</td>\n",
       "      <td>8.37000</td>\n",
       "      <td>drugX</td>\n",
       "    </tr>\n",
       "    <tr>\n",
       "      <th>125</th>\n",
       "      <td>54</td>\n",
       "      <td>68</td>\n",
       "      <td>0</td>\n",
       "      <td>HIGH</td>\n",
       "      <td>1</td>\n",
       "      <td>10.18900</td>\n",
       "      <td>drugB</td>\n",
       "    </tr>\n",
       "    <tr>\n",
       "      <th>126</th>\n",
       "      <td>107</td>\n",
       "      <td>42</td>\n",
       "      <td>1</td>\n",
       "      <td>LOW</td>\n",
       "      <td>0</td>\n",
       "      <td>20.01300</td>\n",
       "      <td>DrugY</td>\n",
       "    </tr>\n",
       "    <tr>\n",
       "      <th>127</th>\n",
       "      <td>50</td>\n",
       "      <td>58</td>\n",
       "      <td>0</td>\n",
       "      <td>HIGH</td>\n",
       "      <td>0</td>\n",
       "      <td>19.41600</td>\n",
       "      <td>DrugY</td>\n",
       "    </tr>\n",
       "    <tr>\n",
       "      <th>128</th>\n",
       "      <td>196</td>\n",
       "      <td>16</td>\n",
       "      <td>1</td>\n",
       "      <td>LOW</td>\n",
       "      <td>0</td>\n",
       "      <td>12.00600</td>\n",
       "      <td>drugC</td>\n",
       "    </tr>\n",
       "    <tr>\n",
       "      <th>129</th>\n",
       "      <td>58</td>\n",
       "      <td>60</td>\n",
       "      <td>1</td>\n",
       "      <td>NORMAL</td>\n",
       "      <td>1</td>\n",
       "      <td>10.09100</td>\n",
       "      <td>drugX</td>\n",
       "    </tr>\n",
       "    <tr>\n",
       "      <th>130</th>\n",
       "      <td>48</td>\n",
       "      <td>23</td>\n",
       "      <td>1</td>\n",
       "      <td>NORMAL</td>\n",
       "      <td>0</td>\n",
       "      <td>31.68600</td>\n",
       "      <td>DrugY</td>\n",
       "    </tr>\n",
       "    <tr>\n",
       "      <th>131</th>\n",
       "      <td>88</td>\n",
       "      <td>37</td>\n",
       "      <td>0</td>\n",
       "      <td>HIGH</td>\n",
       "      <td>1</td>\n",
       "      <td>23.09100</td>\n",
       "      <td>DrugY</td>\n",
       "    </tr>\n",
       "    <tr>\n",
       "      <th>132</th>\n",
       "      <td>21</td>\n",
       "      <td>63</td>\n",
       "      <td>1</td>\n",
       "      <td>NORMAL</td>\n",
       "      <td>0</td>\n",
       "      <td>25.91700</td>\n",
       "      <td>DrugY</td>\n",
       "    </tr>\n",
       "    <tr>\n",
       "      <th>133</th>\n",
       "      <td>57</td>\n",
       "      <td>40</td>\n",
       "      <td>1</td>\n",
       "      <td>HIGH</td>\n",
       "      <td>0</td>\n",
       "      <td>27.82600</td>\n",
       "      <td>DrugY</td>\n",
       "    </tr>\n",
       "    <tr>\n",
       "      <th>134</th>\n",
       "      <td>160</td>\n",
       "      <td>30</td>\n",
       "      <td>0</td>\n",
       "      <td>NORMAL</td>\n",
       "      <td>0</td>\n",
       "      <td>10.44300</td>\n",
       "      <td>drugX</td>\n",
       "    </tr>\n",
       "    <tr>\n",
       "      <th>135</th>\n",
       "      <td>192</td>\n",
       "      <td>72</td>\n",
       "      <td>1</td>\n",
       "      <td>LOW</td>\n",
       "      <td>0</td>\n",
       "      <td>16.31000</td>\n",
       "      <td>DrugY</td>\n",
       "    </tr>\n",
       "    <tr>\n",
       "      <th>136</th>\n",
       "      <td>129</td>\n",
       "      <td>32</td>\n",
       "      <td>0</td>\n",
       "      <td>NORMAL</td>\n",
       "      <td>0</td>\n",
       "      <td>7.47700</td>\n",
       "      <td>drugX</td>\n",
       "    </tr>\n",
       "    <tr>\n",
       "      <th>137</th>\n",
       "      <td>37</td>\n",
       "      <td>39</td>\n",
       "      <td>1</td>\n",
       "      <td>LOW</td>\n",
       "      <td>1</td>\n",
       "      <td>13.93800</td>\n",
       "      <td>drugX</td>\n",
       "    </tr>\n",
       "    <tr>\n",
       "      <th>138</th>\n",
       "      <td>157</td>\n",
       "      <td>53</td>\n",
       "      <td>1</td>\n",
       "      <td>LOW</td>\n",
       "      <td>0</td>\n",
       "      <td>22.96300</td>\n",
       "      <td>DrugY</td>\n",
       "    </tr>\n",
       "    <tr>\n",
       "      <th>139</th>\n",
       "      <td>193</td>\n",
       "      <td>72</td>\n",
       "      <td>1</td>\n",
       "      <td>LOW</td>\n",
       "      <td>0</td>\n",
       "      <td>6.76900</td>\n",
       "      <td>drugC</td>\n",
       "    </tr>\n",
       "    <tr>\n",
       "      <th>140</th>\n",
       "      <td>1</td>\n",
       "      <td>47</td>\n",
       "      <td>1</td>\n",
       "      <td>LOW</td>\n",
       "      <td>0</td>\n",
       "      <td>13.09300</td>\n",
       "      <td>drugC</td>\n",
       "    </tr>\n",
       "    <tr>\n",
       "      <th>141</th>\n",
       "      <td>52</td>\n",
       "      <td>62</td>\n",
       "      <td>1</td>\n",
       "      <td>LOW</td>\n",
       "      <td>1</td>\n",
       "      <td>27.18300</td>\n",
       "      <td>DrugY</td>\n",
       "    </tr>\n",
       "    <tr>\n",
       "      <th>142</th>\n",
       "      <td>149</td>\n",
       "      <td>22</td>\n",
       "      <td>1</td>\n",
       "      <td>LOW</td>\n",
       "      <td>0</td>\n",
       "      <td>8.15100</td>\n",
       "      <td>drugC</td>\n",
       "    </tr>\n",
       "    <tr>\n",
       "      <th>143</th>\n",
       "      <td>130</td>\n",
       "      <td>70</td>\n",
       "      <td>0</td>\n",
       "      <td>NORMAL</td>\n",
       "      <td>0</td>\n",
       "      <td>20.48900</td>\n",
       "      <td>DrugY</td>\n",
       "    </tr>\n",
       "    <tr>\n",
       "      <th>144</th>\n",
       "      <td>151</td>\n",
       "      <td>68</td>\n",
       "      <td>1</td>\n",
       "      <td>HIGH</td>\n",
       "      <td>0</td>\n",
       "      <td>11.00900</td>\n",
       "      <td>drugB</td>\n",
       "    </tr>\n",
       "    <tr>\n",
       "      <th>145</th>\n",
       "      <td>103</td>\n",
       "      <td>56</td>\n",
       "      <td>1</td>\n",
       "      <td>NORMAL</td>\n",
       "      <td>0</td>\n",
       "      <td>8.96600</td>\n",
       "      <td>drugX</td>\n",
       "    </tr>\n",
       "    <tr>\n",
       "      <th>146</th>\n",
       "      <td>99</td>\n",
       "      <td>15</td>\n",
       "      <td>0</td>\n",
       "      <td>HIGH</td>\n",
       "      <td>1</td>\n",
       "      <td>16.72500</td>\n",
       "      <td>DrugY</td>\n",
       "    </tr>\n",
       "    <tr>\n",
       "      <th>147</th>\n",
       "      <td>116</td>\n",
       "      <td>67</td>\n",
       "      <td>1</td>\n",
       "      <td>NORMAL</td>\n",
       "      <td>1</td>\n",
       "      <td>9.51400</td>\n",
       "      <td>drugX</td>\n",
       "    </tr>\n",
       "    <tr>\n",
       "      <th>148</th>\n",
       "      <td>87</td>\n",
       "      <td>69</td>\n",
       "      <td>1</td>\n",
       "      <td>LOW</td>\n",
       "      <td>0</td>\n",
       "      <td>15.47800</td>\n",
       "      <td>DrugY</td>\n",
       "    </tr>\n",
       "    <tr>\n",
       "      <th>149</th>\n",
       "      <td>74</td>\n",
       "      <td>31</td>\n",
       "      <td>1</td>\n",
       "      <td>HIGH</td>\n",
       "      <td>1</td>\n",
       "      <td>17.06900</td>\n",
       "      <td>DrugY</td>\n",
       "    </tr>\n",
       "    <tr>\n",
       "      <th>150</th>\n",
       "      <td>121</td>\n",
       "      <td>15</td>\n",
       "      <td>1</td>\n",
       "      <td>HIGH</td>\n",
       "      <td>1</td>\n",
       "      <td>17.20600</td>\n",
       "      <td>DrugY</td>\n",
       "    </tr>\n",
       "    <tr>\n",
       "      <th>151</th>\n",
       "      <td>199</td>\n",
       "      <td>40</td>\n",
       "      <td>0</td>\n",
       "      <td>LOW</td>\n",
       "      <td>1</td>\n",
       "      <td>11.34900</td>\n",
       "      <td>drugX</td>\n",
       "    </tr>\n",
       "    <tr>\n",
       "      <th>152</th>\n",
       "      <td>20</td>\n",
       "      <td>57</td>\n",
       "      <td>1</td>\n",
       "      <td>LOW</td>\n",
       "      <td>1</td>\n",
       "      <td>19.12800</td>\n",
       "      <td>DrugY</td>\n",
       "    </tr>\n",
       "    <tr>\n",
       "      <th>153</th>\n",
       "      <td>188</td>\n",
       "      <td>65</td>\n",
       "      <td>1</td>\n",
       "      <td>HIGH</td>\n",
       "      <td>1</td>\n",
       "      <td>34.99700</td>\n",
       "      <td>DrugY</td>\n",
       "    </tr>\n",
       "    <tr>\n",
       "      <th>154</th>\n",
       "      <td>71</td>\n",
       "      <td>28</td>\n",
       "      <td>0</td>\n",
       "      <td>NORMAL</td>\n",
       "      <td>0</td>\n",
       "      <td>19.67500</td>\n",
       "      <td>DrugY</td>\n",
       "    </tr>\n",
       "    <tr>\n",
       "      <th>155</th>\n",
       "      <td>106</td>\n",
       "      <td>22</td>\n",
       "      <td>1</td>\n",
       "      <td>NORMAL</td>\n",
       "      <td>0</td>\n",
       "      <td>11.95300</td>\n",
       "      <td>drugX</td>\n",
       "    </tr>\n",
       "    <tr>\n",
       "      <th>156</th>\n",
       "      <td>14</td>\n",
       "      <td>50</td>\n",
       "      <td>0</td>\n",
       "      <td>NORMAL</td>\n",
       "      <td>0</td>\n",
       "      <td>12.70300</td>\n",
       "      <td>drugX</td>\n",
       "    </tr>\n",
       "    <tr>\n",
       "      <th>157</th>\n",
       "      <td>92</td>\n",
       "      <td>29</td>\n",
       "      <td>0</td>\n",
       "      <td>HIGH</td>\n",
       "      <td>0</td>\n",
       "      <td>29.45000</td>\n",
       "      <td>DrugY</td>\n",
       "    </tr>\n",
       "    <tr>\n",
       "      <th>158</th>\n",
       "      <td>179</td>\n",
       "      <td>67</td>\n",
       "      <td>0</td>\n",
       "      <td>NORMAL</td>\n",
       "      <td>0</td>\n",
       "      <td>15.89100</td>\n",
       "      <td>DrugY</td>\n",
       "    </tr>\n",
       "    <tr>\n",
       "      <th>159</th>\n",
       "      <td>102</td>\n",
       "      <td>28</td>\n",
       "      <td>0</td>\n",
       "      <td>LOW</td>\n",
       "      <td>0</td>\n",
       "      <td>13.12700</td>\n",
       "      <td>drugC</td>\n",
       "    </tr>\n",
       "  </tbody>\n",
       "</table>\n",
       "</div>"
      ],
      "text/plain": [
       "      Id  Age  Sex      BP  Cholesterol  Na_to_K   Drug\n",
       "0     79   32    0     LOW            1 10.84000  drugX\n",
       "1    197   52    1  NORMAL            0  9.89400  drugX\n",
       "2     38   39    0  NORMAL            1  9.70900  drugX\n",
       "3     24   33    0     LOW            0 33.48600  DrugY\n",
       "4    122   34    1  NORMAL            0 22.45600  DrugY\n",
       "5    195   56    0     LOW            0 11.56700  drugC\n",
       "6     29   45    1     LOW            0 17.95100  DrugY\n",
       "7     19   32    0    HIGH            1 25.97400  DrugY\n",
       "8    143   74    1    HIGH            1 15.43600  DrugY\n",
       "9     86   51    0  NORMAL            0 13.59700  drugX\n",
       "10   114   20    0  NORMAL            1  9.28100  drugX\n",
       "11   173   41    0     LOW            1 18.73900  DrugY\n",
       "12     5   22    0  NORMAL            0  8.60700  drugX\n",
       "13   126   66    1    HIGH            0 16.34700  DrugY\n",
       "14   117   40    0  NORMAL            0 10.10300  drugX\n",
       "15    73   41    0  NORMAL            1 22.90500  DrugY\n",
       "16   140   49    1    HIGH            1  6.26900  drugA\n",
       "17    98   20    1    HIGH            1 35.63900  DrugY\n",
       "18   172   39    0  NORMAL            1 17.22500  DrugY\n",
       "19    96   58    0     LOW            0 38.24700  DrugY\n",
       "20   169   20    0    HIGH            0 11.26200  drugA\n",
       "21    97   56    0    HIGH            0 25.39500  DrugY\n",
       "22    31   74    1    HIGH            0  9.56700  drugB\n",
       "23    12   43    1     LOW            0 15.37600  DrugY\n",
       "24    35   46    1  NORMAL            1  7.28500  drugX\n",
       "25   119   61    0    HIGH            0 25.47500  DrugY\n",
       "26    42   50    1  NORMAL            1 15.79000  DrugY\n",
       "27   189   64    1    HIGH            1 20.93200  DrugY\n",
       "28    90   62    1  NORMAL            0 16.59400  DrugY\n",
       "29   136   55    0    HIGH            0 10.97700  drugB\n",
       "30    51   67    1  NORMAL            1 10.89800  drugX\n",
       "31   127   35    1  NORMAL            1  7.84500  drugX\n",
       "32   162   43    1  NORMAL            1 12.85900  drugX\n",
       "33    41   58    0    HIGH            1 14.23900  drugB\n",
       "34   118   32    0    HIGH            1 10.29200  drugA\n",
       "35   113   65    0     LOW            1 13.76900  drugX\n",
       "36    26   31    1    HIGH            0 30.36600  DrugY\n",
       "37   139   69    0  NORMAL            0 10.06500  drugX\n",
       "38   100   31    1    HIGH            1 11.87100  drugA\n",
       "39   111   47    0  NORMAL            1  6.68300  drugX\n",
       "40     2   47    1     LOW            0 10.11400  drugC\n",
       "41    77   26    0    HIGH            1 19.16100  DrugY\n",
       "42    46   37    0    HIGH            0 13.09100  drugA\n",
       "43   187   47    1    HIGH            0 10.40300  drugA\n",
       "44   191   23    1    HIGH            0  8.01100  drugA\n",
       "45    85   59    1    HIGH            0 13.93500  drugB\n",
       "46   161   57    0    HIGH            1  9.94500  drugB\n",
       "47    36   32    1    HIGH            1  9.44500  drugA\n",
       "48   190   58    1    HIGH            0 18.99100  DrugY\n",
       "49    61   24    1    HIGH            1  9.47500  drugA\n",
       "50    22   47    1     LOW            1 30.56800  DrugY\n",
       "51   141   64    0     LOW            1 25.74100  DrugY\n",
       "52   101   45    0    HIGH            0 12.85400  drugA\n",
       "53    33   65    0    HIGH            1 31.87600  DrugY\n",
       "54    11   34    0    HIGH            1 19.19900  DrugY\n",
       "55   194   46    0    HIGH            0 34.68600  DrugY\n",
       "56   159   34    0     LOW            1 12.92300  drugX\n",
       "57     6   49    0  NORMAL            0 16.27500  DrugY\n",
       "58    27   49    0  NORMAL            1  9.38100  drugX\n",
       "59   120   28    1  NORMAL            0 27.06400  DrugY\n",
       "60     4   61    0     LOW            0 18.04300  DrugY\n",
       "61    32   49    1     LOW            1 11.01400  drugX\n",
       "62   142   60    1    HIGH            1  8.62100  drugB\n",
       "63   145   61    1  NORMAL            0  9.44300  drugX\n",
       "64   109   23    1  NORMAL            0 16.85000  DrugY\n",
       "65   144   39    1    HIGH            0  9.66400  drugA\n",
       "66    10   47    0     LOW            0 11.76700  drugC\n",
       "67    62   67    1     LOW            1 20.69300  DrugY\n",
       "68   112   35    1     LOW            1  9.17000  drugX\n",
       "69   146   37    0     LOW            1 12.00600  drugX\n",
       "70   166   58    0     LOW            0 26.64500  DrugY\n",
       "71     0   23    0    HIGH            0 25.35500  DrugY\n",
       "72   198   23    1  NORMAL            1 14.02000  drugX\n",
       "73   153   72    0     LOW            1 14.64200  drugX\n",
       "74    70   70    1    HIGH            0 13.96700  drugB\n",
       "75   123   36    0  NORMAL            0 16.75300  DrugY\n",
       "76    64   60    0    HIGH            0 13.30300  drugB\n",
       "77    44   50    0  NORMAL            1 12.29500  drugX\n",
       "78   163   21    0    HIGH            1 28.63200  DrugY\n",
       "79    28   39    0     LOW            1 22.69700  DrugY\n",
       "80    40   73    0  NORMAL            0 19.22100  DrugY\n",
       "81   108   72    1    HIGH            1  9.67700  drugB\n",
       "82   155   49    1     LOW            0 10.53700  drugC\n",
       "83   156   31    1    HIGH            1 11.22700  drugA\n",
       "84    25   28    0    HIGH            1 18.80900  DrugY\n",
       "85    23   48    0     LOW            0 15.03600  DrugY\n",
       "86   184   18    0    HIGH            0 37.18800  DrugY\n",
       "87   147   26    0    HIGH            1 12.30700  drugA\n",
       "88    81   64    1  NORMAL            0  7.76100  drugX\n",
       "89    39   15    1  NORMAL            0  9.08400  drugX\n",
       "90   168   51    0     LOW            1 23.00300  DrugY\n",
       "91    47   68    1     LOW            0 10.29100  drugC\n",
       "92    94   56    1     LOW            0 15.01500  DrugY\n",
       "93   154   37    1     LOW            1 16.72400  DrugY\n",
       "94    43   23    1  NORMAL            0 12.26000  drugX\n",
       "95   138   51    1    HIGH            1 11.34300  drugB\n",
       "96     3   28    0  NORMAL            0  7.79800  drugX\n",
       "97   105   37    1     LOW            1  8.96800  drugX\n",
       "98    53   24    0    HIGH            1 18.45700  DrugY\n",
       "99   133   24    1  NORMAL            0 25.78600  DrugY\n",
       "100  180   22    0    HIGH            1 22.81800  DrugY\n",
       "101  178   39    1  NORMAL            0 15.96900  DrugY\n",
       "102  185   57    0  NORMAL            1 25.89300  DrugY\n",
       "103   49   28    0     LOW            0 19.79600  DrugY\n",
       "104   80   60    1    HIGH            0 13.93400  drugB\n",
       "105   34   53    1  NORMAL            0 14.13300  drugX\n",
       "106    7   41    1     LOW            0 11.03700  drugC\n",
       "107  110   50    1    HIGH            0  7.49000  drugA\n",
       "108   91   41    1    HIGH            1 15.15600  DrugY\n",
       "109   83   38    0    HIGH            1 11.32600  drugA\n",
       "110  176   48    1    HIGH            1 10.44600  drugA\n",
       "111  181   59    0  NORMAL            0 13.88400  drugX\n",
       "112   89   50    0  NORMAL            1 17.21100  DrugY\n",
       "113    8   60    1  NORMAL            0 15.17100  DrugY\n",
       "114   13   74    0     LOW            0 20.94200  DrugY\n",
       "115   59   34    1    HIGH            0 18.70300  DrugY\n",
       "116  171   45    1     LOW            1 10.01700  drugX\n",
       "117  131   52    1     LOW            1 32.92200  DrugY\n",
       "118   17   43    1    HIGH            0 13.97200  drugA\n",
       "119   72   24    0  NORMAL            0 10.60500  drugX\n",
       "120  175   73    0    HIGH            0 18.34800  DrugY\n",
       "121  134   42    0    HIGH            0 21.03600  DrugY\n",
       "122  167   57    0  NORMAL            0 14.21600  drugX\n",
       "123  183   36    0    HIGH            1 15.49000  DrugY\n",
       "124   63   45    1     LOW            1  8.37000  drugX\n",
       "125   54   68    0    HIGH            1 10.18900  drugB\n",
       "126  107   42    1     LOW            0 20.01300  DrugY\n",
       "127   50   58    0    HIGH            0 19.41600  DrugY\n",
       "128  196   16    1     LOW            0 12.00600  drugC\n",
       "129   58   60    1  NORMAL            1 10.09100  drugX\n",
       "130   48   23    1  NORMAL            0 31.68600  DrugY\n",
       "131   88   37    0    HIGH            1 23.09100  DrugY\n",
       "132   21   63    1  NORMAL            0 25.91700  DrugY\n",
       "133   57   40    1    HIGH            0 27.82600  DrugY\n",
       "134  160   30    0  NORMAL            0 10.44300  drugX\n",
       "135  192   72    1     LOW            0 16.31000  DrugY\n",
       "136  129   32    0  NORMAL            0  7.47700  drugX\n",
       "137   37   39    1     LOW            1 13.93800  drugX\n",
       "138  157   53    1     LOW            0 22.96300  DrugY\n",
       "139  193   72    1     LOW            0  6.76900  drugC\n",
       "140    1   47    1     LOW            0 13.09300  drugC\n",
       "141   52   62    1     LOW            1 27.18300  DrugY\n",
       "142  149   22    1     LOW            0  8.15100  drugC\n",
       "143  130   70    0  NORMAL            0 20.48900  DrugY\n",
       "144  151   68    1    HIGH            0 11.00900  drugB\n",
       "145  103   56    1  NORMAL            0  8.96600  drugX\n",
       "146   99   15    0    HIGH            1 16.72500  DrugY\n",
       "147  116   67    1  NORMAL            1  9.51400  drugX\n",
       "148   87   69    1     LOW            0 15.47800  DrugY\n",
       "149   74   31    1    HIGH            1 17.06900  DrugY\n",
       "150  121   15    1    HIGH            1 17.20600  DrugY\n",
       "151  199   40    0     LOW            1 11.34900  drugX\n",
       "152   20   57    1     LOW            1 19.12800  DrugY\n",
       "153  188   65    1    HIGH            1 34.99700  DrugY\n",
       "154   71   28    0  NORMAL            0 19.67500  DrugY\n",
       "155  106   22    1  NORMAL            0 11.95300  drugX\n",
       "156   14   50    0  NORMAL            0 12.70300  drugX\n",
       "157   92   29    0    HIGH            0 29.45000  DrugY\n",
       "158  179   67    0  NORMAL            0 15.89100  DrugY\n",
       "159  102   28    0     LOW            0 13.12700  drugC"
      ]
     },
     "execution_count": 32,
     "metadata": {},
     "output_type": "execute_result"
    }
   ],
   "source": [
    "drug_train.drop_duplicates()"
   ]
  },
  {
   "cell_type": "markdown",
   "metadata": {},
   "source": [
    "**Observations**\n",
    "- no duplicates"
   ]
  },
  {
   "cell_type": "code",
   "execution_count": 33,
   "metadata": {},
   "outputs": [
    {
     "data": {
      "text/plain": [
       "Drug\n",
       "DrugY   15.01500\n",
       "drugA    6.26900\n",
       "drugB    8.62100\n",
       "drugC    6.76900\n",
       "drugX    6.68300\n",
       "Name: Na_to_K, dtype: float64"
      ]
     },
     "execution_count": 33,
     "metadata": {},
     "output_type": "execute_result"
    }
   ],
   "source": [
    "drug_train['Na_to_K'].groupby(drug_train['Drug']).agg('min')"
   ]
  },
  {
   "cell_type": "markdown",
   "metadata": {},
   "source": [
    "**Observations**\n",
    "- DrugY has min of Na to K ratio of 15.015 "
   ]
  },
  {
   "cell_type": "markdown",
   "metadata": {},
   "source": [
    "# OHE encoding"
   ]
  },
  {
   "cell_type": "code",
   "execution_count": 34,
   "metadata": {
    "scrolled": true
   },
   "outputs": [
    {
     "data": {
      "text/html": [
       "<div>\n",
       "<style scoped>\n",
       "    .dataframe tbody tr th:only-of-type {\n",
       "        vertical-align: middle;\n",
       "    }\n",
       "\n",
       "    .dataframe tbody tr th {\n",
       "        vertical-align: top;\n",
       "    }\n",
       "\n",
       "    .dataframe thead th {\n",
       "        text-align: right;\n",
       "    }\n",
       "</style>\n",
       "<table border=\"1\" class=\"dataframe\">\n",
       "  <thead>\n",
       "    <tr style=\"text-align: right;\">\n",
       "      <th></th>\n",
       "      <th>Id</th>\n",
       "      <th>Age</th>\n",
       "      <th>Sex</th>\n",
       "      <th>BP</th>\n",
       "      <th>Cholesterol</th>\n",
       "      <th>Na_to_K</th>\n",
       "      <th>Drug</th>\n",
       "      <th>BP_LOW</th>\n",
       "      <th>BP_NORMAL</th>\n",
       "    </tr>\n",
       "  </thead>\n",
       "  <tbody>\n",
       "    <tr>\n",
       "      <th>0</th>\n",
       "      <td>79</td>\n",
       "      <td>32</td>\n",
       "      <td>0</td>\n",
       "      <td>LOW</td>\n",
       "      <td>1</td>\n",
       "      <td>10.84000</td>\n",
       "      <td>drugX</td>\n",
       "      <td>1</td>\n",
       "      <td>0</td>\n",
       "    </tr>\n",
       "    <tr>\n",
       "      <th>1</th>\n",
       "      <td>197</td>\n",
       "      <td>52</td>\n",
       "      <td>1</td>\n",
       "      <td>NORMAL</td>\n",
       "      <td>0</td>\n",
       "      <td>9.89400</td>\n",
       "      <td>drugX</td>\n",
       "      <td>0</td>\n",
       "      <td>1</td>\n",
       "    </tr>\n",
       "    <tr>\n",
       "      <th>2</th>\n",
       "      <td>38</td>\n",
       "      <td>39</td>\n",
       "      <td>0</td>\n",
       "      <td>NORMAL</td>\n",
       "      <td>1</td>\n",
       "      <td>9.70900</td>\n",
       "      <td>drugX</td>\n",
       "      <td>0</td>\n",
       "      <td>1</td>\n",
       "    </tr>\n",
       "    <tr>\n",
       "      <th>3</th>\n",
       "      <td>24</td>\n",
       "      <td>33</td>\n",
       "      <td>0</td>\n",
       "      <td>LOW</td>\n",
       "      <td>0</td>\n",
       "      <td>33.48600</td>\n",
       "      <td>DrugY</td>\n",
       "      <td>1</td>\n",
       "      <td>0</td>\n",
       "    </tr>\n",
       "    <tr>\n",
       "      <th>4</th>\n",
       "      <td>122</td>\n",
       "      <td>34</td>\n",
       "      <td>1</td>\n",
       "      <td>NORMAL</td>\n",
       "      <td>0</td>\n",
       "      <td>22.45600</td>\n",
       "      <td>DrugY</td>\n",
       "      <td>0</td>\n",
       "      <td>1</td>\n",
       "    </tr>\n",
       "  </tbody>\n",
       "</table>\n",
       "</div>"
      ],
      "text/plain": [
       "    Id  Age  Sex      BP  Cholesterol  Na_to_K   Drug  BP_LOW  BP_NORMAL\n",
       "0   79   32    0     LOW            1 10.84000  drugX       1          0\n",
       "1  197   52    1  NORMAL            0  9.89400  drugX       0          1\n",
       "2   38   39    0  NORMAL            1  9.70900  drugX       0          1\n",
       "3   24   33    0     LOW            0 33.48600  DrugY       1          0\n",
       "4  122   34    1  NORMAL            0 22.45600  DrugY       0          1"
      ]
     },
     "execution_count": 34,
     "metadata": {},
     "output_type": "execute_result"
    }
   ],
   "source": [
    "# Creating dummy variables for the variable 'BP'. \n",
    "s_m1 = pd.get_dummies(drug_train['BP'], prefix='BP',drop_first=True)\n",
    "s_m2 = pd.get_dummies(drug_test['BP'], prefix='BP',drop_first=True)\n",
    "#sm1 = s_m1.drop(['StreamingMovies_No internet service'], 1)\n",
    "#sm2 = s_m2.drop(['StreamingMovies_No internet service'], 1)\n",
    "# Adding the results to the master dataframe\n",
    "drug_train = pd.concat([drug_train,s_m1], axis=1)\n",
    "drug_test = pd.concat([drug_test,s_m2], axis=1)\n",
    "drug_train.head()"
   ]
  },
  {
   "cell_type": "code",
   "execution_count": 35,
   "metadata": {},
   "outputs": [
    {
     "data": {
      "text/html": [
       "<div>\n",
       "<style scoped>\n",
       "    .dataframe tbody tr th:only-of-type {\n",
       "        vertical-align: middle;\n",
       "    }\n",
       "\n",
       "    .dataframe tbody tr th {\n",
       "        vertical-align: top;\n",
       "    }\n",
       "\n",
       "    .dataframe thead th {\n",
       "        text-align: right;\n",
       "    }\n",
       "</style>\n",
       "<table border=\"1\" class=\"dataframe\">\n",
       "  <thead>\n",
       "    <tr style=\"text-align: right;\">\n",
       "      <th></th>\n",
       "      <th>Age</th>\n",
       "      <th>Sex</th>\n",
       "      <th>BP</th>\n",
       "      <th>Cholesterol</th>\n",
       "      <th>Na_to_K</th>\n",
       "      <th>BP_LOW</th>\n",
       "      <th>BP_NORMAL</th>\n",
       "    </tr>\n",
       "    <tr>\n",
       "      <th>Id</th>\n",
       "      <th></th>\n",
       "      <th></th>\n",
       "      <th></th>\n",
       "      <th></th>\n",
       "      <th></th>\n",
       "      <th></th>\n",
       "      <th></th>\n",
       "    </tr>\n",
       "  </thead>\n",
       "  <tbody>\n",
       "    <tr>\n",
       "      <th>95</th>\n",
       "      <td>36</td>\n",
       "      <td>1</td>\n",
       "      <td>LOW</td>\n",
       "      <td>1</td>\n",
       "      <td>11.42400</td>\n",
       "      <td>1</td>\n",
       "      <td>0</td>\n",
       "    </tr>\n",
       "    <tr>\n",
       "      <th>15</th>\n",
       "      <td>16</td>\n",
       "      <td>0</td>\n",
       "      <td>HIGH</td>\n",
       "      <td>1</td>\n",
       "      <td>15.51600</td>\n",
       "      <td>0</td>\n",
       "      <td>0</td>\n",
       "    </tr>\n",
       "    <tr>\n",
       "      <th>30</th>\n",
       "      <td>18</td>\n",
       "      <td>0</td>\n",
       "      <td>NORMAL</td>\n",
       "      <td>1</td>\n",
       "      <td>8.75000</td>\n",
       "      <td>0</td>\n",
       "      <td>1</td>\n",
       "    </tr>\n",
       "    <tr>\n",
       "      <th>158</th>\n",
       "      <td>59</td>\n",
       "      <td>0</td>\n",
       "      <td>LOW</td>\n",
       "      <td>0</td>\n",
       "      <td>10.44400</td>\n",
       "      <td>1</td>\n",
       "      <td>0</td>\n",
       "    </tr>\n",
       "    <tr>\n",
       "      <th>128</th>\n",
       "      <td>47</td>\n",
       "      <td>1</td>\n",
       "      <td>LOW</td>\n",
       "      <td>1</td>\n",
       "      <td>33.54200</td>\n",
       "      <td>1</td>\n",
       "      <td>0</td>\n",
       "    </tr>\n",
       "  </tbody>\n",
       "</table>\n",
       "</div>"
      ],
      "text/plain": [
       "     Age  Sex      BP  Cholesterol  Na_to_K  BP_LOW  BP_NORMAL\n",
       "Id                                                            \n",
       "95    36    1     LOW            1 11.42400       1          0\n",
       "15    16    0    HIGH            1 15.51600       0          0\n",
       "30    18    0  NORMAL            1  8.75000       0          1\n",
       "158   59    0     LOW            0 10.44400       1          0\n",
       "128   47    1     LOW            1 33.54200       1          0"
      ]
     },
     "execution_count": 35,
     "metadata": {},
     "output_type": "execute_result"
    }
   ],
   "source": [
    "drug_train.set_index(['Id'],inplace=True)\n",
    "drug_test.set_index(['Id'],inplace=True)\n",
    "drug_test.head()"
   ]
  },
  {
   "cell_type": "code",
   "execution_count": 36,
   "metadata": {},
   "outputs": [],
   "source": [
    "drug_train.drop(['BP','Sex'],axis=1,inplace=True)"
   ]
  },
  {
   "cell_type": "code",
   "execution_count": 37,
   "metadata": {},
   "outputs": [],
   "source": [
    "drug_test.drop(['BP','Sex'],axis=1,inplace=True)"
   ]
  },
  {
   "cell_type": "code",
   "execution_count": 38,
   "metadata": {},
   "outputs": [
    {
     "data": {
      "text/html": [
       "<div>\n",
       "<style scoped>\n",
       "    .dataframe tbody tr th:only-of-type {\n",
       "        vertical-align: middle;\n",
       "    }\n",
       "\n",
       "    .dataframe tbody tr th {\n",
       "        vertical-align: top;\n",
       "    }\n",
       "\n",
       "    .dataframe thead th {\n",
       "        text-align: right;\n",
       "    }\n",
       "</style>\n",
       "<table border=\"1\" class=\"dataframe\">\n",
       "  <thead>\n",
       "    <tr style=\"text-align: right;\">\n",
       "      <th></th>\n",
       "      <th>Age</th>\n",
       "      <th>Cholesterol</th>\n",
       "      <th>Na_to_K</th>\n",
       "      <th>BP_LOW</th>\n",
       "      <th>BP_NORMAL</th>\n",
       "    </tr>\n",
       "    <tr>\n",
       "      <th>Id</th>\n",
       "      <th></th>\n",
       "      <th></th>\n",
       "      <th></th>\n",
       "      <th></th>\n",
       "      <th></th>\n",
       "    </tr>\n",
       "  </thead>\n",
       "  <tbody>\n",
       "    <tr>\n",
       "      <th>95</th>\n",
       "      <td>36</td>\n",
       "      <td>1</td>\n",
       "      <td>11.42400</td>\n",
       "      <td>1</td>\n",
       "      <td>0</td>\n",
       "    </tr>\n",
       "    <tr>\n",
       "      <th>15</th>\n",
       "      <td>16</td>\n",
       "      <td>1</td>\n",
       "      <td>15.51600</td>\n",
       "      <td>0</td>\n",
       "      <td>0</td>\n",
       "    </tr>\n",
       "    <tr>\n",
       "      <th>30</th>\n",
       "      <td>18</td>\n",
       "      <td>1</td>\n",
       "      <td>8.75000</td>\n",
       "      <td>0</td>\n",
       "      <td>1</td>\n",
       "    </tr>\n",
       "    <tr>\n",
       "      <th>158</th>\n",
       "      <td>59</td>\n",
       "      <td>0</td>\n",
       "      <td>10.44400</td>\n",
       "      <td>1</td>\n",
       "      <td>0</td>\n",
       "    </tr>\n",
       "    <tr>\n",
       "      <th>128</th>\n",
       "      <td>47</td>\n",
       "      <td>1</td>\n",
       "      <td>33.54200</td>\n",
       "      <td>1</td>\n",
       "      <td>0</td>\n",
       "    </tr>\n",
       "  </tbody>\n",
       "</table>\n",
       "</div>"
      ],
      "text/plain": [
       "     Age  Cholesterol  Na_to_K  BP_LOW  BP_NORMAL\n",
       "Id                                               \n",
       "95    36            1 11.42400       1          0\n",
       "15    16            1 15.51600       0          0\n",
       "30    18            1  8.75000       0          1\n",
       "158   59            0 10.44400       1          0\n",
       "128   47            1 33.54200       1          0"
      ]
     },
     "execution_count": 38,
     "metadata": {},
     "output_type": "execute_result"
    }
   ],
   "source": [
    "drug_test.head()"
   ]
  },
  {
   "cell_type": "code",
   "execution_count": 39,
   "metadata": {},
   "outputs": [
    {
     "data": {
      "text/plain": [
       "Text(0.5, 1.0, 'Correlation between features')"
      ]
     },
     "execution_count": 39,
     "metadata": {},
     "output_type": "execute_result"
    },
    {
     "data": {
      "image/png": "[encoded data removed]",
      "text/plain": [
       "<Figure size 720x720 with 2 Axes>"
      ]
     },
     "metadata": {
      "needs_background": "light"
     },
     "output_type": "display_data"
    }
   ],
   "source": [
    "\n",
    "corr = drug_train.corr()\n",
    "plt.figure(figsize=(10,10))\n",
    "sns.heatmap(corr,vmax=.8,linewidth=.01, square = True, annot = True,cmap='YlGnBu',linecolor ='black')\n",
    "plt.title('Correlation between features')"
   ]
  },
  {
   "cell_type": "code",
   "execution_count": 40,
   "metadata": {},
   "outputs": [
    {
     "data": {
      "text/plain": [
       "Text(0.5, 1.0, 'Correlation between features')"
      ]
     },
     "execution_count": 40,
     "metadata": {},
     "output_type": "execute_result"
    },
    {
     "data": {
      "image/png": "[encoded data removed]",
      "text/plain": [
       "<Figure size 720x720 with 2 Axes>"
      ]
     },
     "metadata": {
      "needs_background": "light"
     },
     "output_type": "display_data"
    }
   ],
   "source": [
    "corr = drug_test.corr()\n",
    "plt.figure(figsize=(10,10))\n",
    "sns.heatmap(corr,vmax=.8,linewidth=.01, square = True, annot = True,cmap='YlGnBu',linecolor ='black')\n",
    "plt.title('Correlation between features')"
   ]
  },
  {
   "cell_type": "markdown",
   "metadata": {
    "colab_type": "text",
    "id": "sxJmR94rgUcb"
   },
   "source": [
    "###  Extract the independent variables to create a dataframe X."
   ]
  },
  {
   "cell_type": "code",
   "execution_count": 41,
   "metadata": {
    "colab": {},
    "colab_type": "code",
    "id": "C9kjexYCgUcd"
   },
   "outputs": [
    {
     "data": {
      "text/html": [
       "<div>\n",
       "<style scoped>\n",
       "    .dataframe tbody tr th:only-of-type {\n",
       "        vertical-align: middle;\n",
       "    }\n",
       "\n",
       "    .dataframe tbody tr th {\n",
       "        vertical-align: top;\n",
       "    }\n",
       "\n",
       "    .dataframe thead th {\n",
       "        text-align: right;\n",
       "    }\n",
       "</style>\n",
       "<table border=\"1\" class=\"dataframe\">\n",
       "  <thead>\n",
       "    <tr style=\"text-align: right;\">\n",
       "      <th></th>\n",
       "      <th>Age</th>\n",
       "      <th>Cholesterol</th>\n",
       "      <th>Na_to_K</th>\n",
       "      <th>BP_LOW</th>\n",
       "      <th>BP_NORMAL</th>\n",
       "    </tr>\n",
       "    <tr>\n",
       "      <th>Id</th>\n",
       "      <th></th>\n",
       "      <th></th>\n",
       "      <th></th>\n",
       "      <th></th>\n",
       "      <th></th>\n",
       "    </tr>\n",
       "  </thead>\n",
       "  <tbody>\n",
       "    <tr>\n",
       "      <th>79</th>\n",
       "      <td>32</td>\n",
       "      <td>1</td>\n",
       "      <td>10.84000</td>\n",
       "      <td>1</td>\n",
       "      <td>0</td>\n",
       "    </tr>\n",
       "    <tr>\n",
       "      <th>197</th>\n",
       "      <td>52</td>\n",
       "      <td>0</td>\n",
       "      <td>9.89400</td>\n",
       "      <td>0</td>\n",
       "      <td>1</td>\n",
       "    </tr>\n",
       "    <tr>\n",
       "      <th>38</th>\n",
       "      <td>39</td>\n",
       "      <td>1</td>\n",
       "      <td>9.70900</td>\n",
       "      <td>0</td>\n",
       "      <td>1</td>\n",
       "    </tr>\n",
       "    <tr>\n",
       "      <th>24</th>\n",
       "      <td>33</td>\n",
       "      <td>0</td>\n",
       "      <td>33.48600</td>\n",
       "      <td>1</td>\n",
       "      <td>0</td>\n",
       "    </tr>\n",
       "    <tr>\n",
       "      <th>122</th>\n",
       "      <td>34</td>\n",
       "      <td>0</td>\n",
       "      <td>22.45600</td>\n",
       "      <td>0</td>\n",
       "      <td>1</td>\n",
       "    </tr>\n",
       "  </tbody>\n",
       "</table>\n",
       "</div>"
      ],
      "text/plain": [
       "     Age  Cholesterol  Na_to_K  BP_LOW  BP_NORMAL\n",
       "Id                                               \n",
       "79    32            1 10.84000       1          0\n",
       "197   52            0  9.89400       0          1\n",
       "38    39            1  9.70900       0          1\n",
       "24    33            0 33.48600       1          0\n",
       "122   34            0 22.45600       0          1"
      ]
     },
     "execution_count": 41,
     "metadata": {},
     "output_type": "execute_result"
    }
   ],
   "source": [
    "X = pd.DataFrame()\n",
    "def generate():\n",
    "    X=drug_train.drop(['Drug'],axis=1) # write your code to create a dataframe of dependent variables excluding 'diagnosis' variable\n",
    "    return X\n",
    "X = generate()\n",
    "X.head()"
   ]
  },
  {
   "cell_type": "code",
   "execution_count": 42,
   "metadata": {},
   "outputs": [
    {
     "data": {
      "text/html": [
       "<div>\n",
       "<style scoped>\n",
       "    .dataframe tbody tr th:only-of-type {\n",
       "        vertical-align: middle;\n",
       "    }\n",
       "\n",
       "    .dataframe tbody tr th {\n",
       "        vertical-align: top;\n",
       "    }\n",
       "\n",
       "    .dataframe thead th {\n",
       "        text-align: right;\n",
       "    }\n",
       "</style>\n",
       "<table border=\"1\" class=\"dataframe\">\n",
       "  <thead>\n",
       "    <tr style=\"text-align: right;\">\n",
       "      <th></th>\n",
       "      <th>Age</th>\n",
       "      <th>Cholesterol</th>\n",
       "      <th>Na_to_K</th>\n",
       "      <th>BP_LOW</th>\n",
       "      <th>BP_NORMAL</th>\n",
       "    </tr>\n",
       "    <tr>\n",
       "      <th>Id</th>\n",
       "      <th></th>\n",
       "      <th></th>\n",
       "      <th></th>\n",
       "      <th></th>\n",
       "      <th></th>\n",
       "    </tr>\n",
       "  </thead>\n",
       "  <tbody>\n",
       "    <tr>\n",
       "      <th>95</th>\n",
       "      <td>36</td>\n",
       "      <td>1</td>\n",
       "      <td>11.42400</td>\n",
       "      <td>1</td>\n",
       "      <td>0</td>\n",
       "    </tr>\n",
       "    <tr>\n",
       "      <th>15</th>\n",
       "      <td>16</td>\n",
       "      <td>1</td>\n",
       "      <td>15.51600</td>\n",
       "      <td>0</td>\n",
       "      <td>0</td>\n",
       "    </tr>\n",
       "    <tr>\n",
       "      <th>30</th>\n",
       "      <td>18</td>\n",
       "      <td>1</td>\n",
       "      <td>8.75000</td>\n",
       "      <td>0</td>\n",
       "      <td>1</td>\n",
       "    </tr>\n",
       "    <tr>\n",
       "      <th>158</th>\n",
       "      <td>59</td>\n",
       "      <td>0</td>\n",
       "      <td>10.44400</td>\n",
       "      <td>1</td>\n",
       "      <td>0</td>\n",
       "    </tr>\n",
       "    <tr>\n",
       "      <th>128</th>\n",
       "      <td>47</td>\n",
       "      <td>1</td>\n",
       "      <td>33.54200</td>\n",
       "      <td>1</td>\n",
       "      <td>0</td>\n",
       "    </tr>\n",
       "  </tbody>\n",
       "</table>\n",
       "</div>"
      ],
      "text/plain": [
       "     Age  Cholesterol  Na_to_K  BP_LOW  BP_NORMAL\n",
       "Id                                               \n",
       "95    36            1 11.42400       1          0\n",
       "15    16            1 15.51600       0          0\n",
       "30    18            1  8.75000       0          1\n",
       "158   59            0 10.44400       1          0\n",
       "128   47            1 33.54200       1          0"
      ]
     },
     "execution_count": 42,
     "metadata": {},
     "output_type": "execute_result"
    }
   ],
   "source": [
    "X_Insaid_test=drug_test\n",
    "X_Insaid_test.head()"
   ]
  },
  {
   "cell_type": "markdown",
   "metadata": {},
   "source": [
    "# multiclass TV assignment"
   ]
  },
  {
   "cell_type": "markdown",
   "metadata": {
    "colab_type": "text",
    "id": "EaOymwU7gUci"
   },
   "source": [
    "###  Extract the dependent variable into a dataframe 'y' for model prediction."
   ]
  },
  {
   "cell_type": "code",
   "execution_count": 43,
   "metadata": {},
   "outputs": [],
   "source": [
    "    \n",
    "    temp = []\n",
    "for i in drug_train.Drug:\n",
    "        if i == 'drugX':\n",
    "            temp.append(0)\n",
    "        elif i =='DrugY':\n",
    "            temp.append(1)\n",
    "        elif i =='drugC':\n",
    "            temp.append(2)\n",
    "        elif i =='drugA':\n",
    "            temp.append(3)\n",
    "        elif i =='drugB':\n",
    "            temp.append(4)\n",
    "drug_train['Drugs'] = temp\n",
    "drug_train.drop(['Drug'],axis=1,inplace=True)\n",
    "#from sklearn import preprocessing\n",
    "# Transforming non numerical labels into numerical labels\n",
    "#encoder = preprocessing.LabelEncoder()\n",
    "\n",
    "# encoding train labels \n",
    "#y = encoder.fit_transform(y)\n"
   ]
  },
  {
   "cell_type": "code",
   "execution_count": 44,
   "metadata": {},
   "outputs": [
    {
     "data": {
      "image/png": "[encoded data removed]",
      "text/plain": [
       "<Figure size 1152x576 with 6 Axes>"
      ]
     },
     "metadata": {
      "needs_background": "light"
     },
     "output_type": "display_data"
    }
   ],
   "source": [
    "# Instantiate a figure of size of 20 x 25 inches with 6 subplots\n",
    "fig, ax = plt.subplots(nrows=2, ncols=3, figsize=(16, 8))\n",
    "\n",
    "# Create KDE plots\n",
    "sns.histplot(x='Na_to_K', data=drug_train[drug_train['Drugs']==0], ax=ax[0, 0], kde=True)\n",
    "sns.histplot(x='Na_to_K', data=drug_train[drug_train['Drugs']==1], ax=ax[0, 1], kde=True)\n",
    "sns.histplot(x='Na_to_K', data=drug_train[drug_train['Drugs']==2], ax=ax[0, 2], kde=True)\n",
    "sns.histplot(x='Na_to_K', data=drug_train[drug_train['Drugs']==3], ax=ax[1, 0], kde=True)\n",
    "sns.histplot(x='Na_to_K', data=drug_train[drug_train['Drugs']==4], ax=ax[1, 1], kde=True)\n",
    "\n",
    "# Adding some cosmetics - ticks, labels, title, legend and grid.\n",
    "ax[0, 0].set_title(label='Na_to_K of Drug X ', fontsize=16)\n",
    "ax[0, 1].set_title(label='Na_to_K of Drug Y', fontsize=16)\n",
    "ax[0, 2].set_title(label='Na_to_K of Drug C', fontsize=16)\n",
    "ax[1, 0].set_title(label='Na_to_K of Drug A', fontsize=16)\n",
    "ax[1, 1].set_title(label='Na_to_K of Drug B', fontsize=16)\n",
    "\n",
    "\n",
    "# We have to flatten axes (from (2,3) to (1,6) to apply cosmetics\n",
    "ax = ax.flatten()\n",
    "for axes in ax:\n",
    "  axes.set_ylabel(ylabel='Count', size=14)\n",
    "  axes.set_xlabel(xlabel='Na_to_K', size=14)\n",
    "  axes.grid(b=True)\n",
    "\n",
    "# Setting a super title for the plots\n",
    "plt.suptitle(t='Influence of Na_to_K on Drug', size=18, y=1.02)\n",
    "plt.tight_layout(pad=3)\n",
    "\n",
    "# Display the figures\n",
    "plt.show()"
   ]
  },
  {
   "cell_type": "markdown",
   "metadata": {},
   "source": [
    "**Observations**:\n",
    "\n",
    "- We observe that the **Na_to_K range** is **limited to 7 to 13** in terms of drugs **drugs** **A, B, C** and **X**.\n",
    "\n",
    "- It can also be due to **3-6** numbers of **samples** present for the mentioned drug types.\n",
    "\n",
    "- **drugy** and to a small extent **X** have a **wide range** of **Na_to_K** present.\n",
    "\n"
   ]
  },
  {
   "cell_type": "code",
   "execution_count": 45,
   "metadata": {
    "colab": {},
    "colab_type": "code",
    "id": "qevKVi67gUcj"
   },
   "outputs": [
    {
     "name": "stdout",
     "output_type": "stream",
     "text": [
      "Id\n",
      "79     0\n",
      "197    0\n",
      "38     0\n",
      "24     1\n",
      "122    1\n",
      "Name: Drugs, dtype: int64\n"
     ]
    }
   ],
   "source": [
    "from sklearn import preprocessing\n",
    "\n",
    "y = pd.DataFrame()\n",
    "\n",
    "\n",
    "def generate():\n",
    "    y = drug_train['Drugs']# write your code to create a dataframe which consists only of dependepent variable\n",
    "    print(y.head())\n",
    "    return y\n",
    "\n",
    "y = generate()\n"
   ]
  },
  {
   "cell_type": "code",
   "execution_count": 46,
   "metadata": {},
   "outputs": [
    {
     "data": {
      "text/plain": [
       "Id\n",
       "79     0\n",
       "197    0\n",
       "38     0\n",
       "24     1\n",
       "122    1\n",
       "Name: Drugs, dtype: int64"
      ]
     },
     "execution_count": 46,
     "metadata": {},
     "output_type": "execute_result"
    }
   ],
   "source": [
    "y.head()"
   ]
  },
  {
   "cell_type": "markdown",
   "metadata": {
    "colab_type": "text",
    "id": "jU0oLqo8gUco"
   },
   "source": [
    "### Split X and y into train and test dataset.\n",
    "\n",
    "- Use `test_size` of **0.25**\n",
    "\n",
    "- Use `random_state` equal to **1**."
   ]
  },
  {
   "cell_type": "code",
   "execution_count": 47,
   "metadata": {},
   "outputs": [
    {
     "name": "stdout",
     "output_type": "stream",
     "text": [
      "Requirement already satisfied: imblearn in c:\\users\\vbhak\\anaconda3\\lib\\site-packages (0.0)\n",
      "Requirement already satisfied: imbalanced-learn in c:\\users\\vbhak\\anaconda3\\lib\\site-packages (from imblearn) (0.8.0)\n",
      "Requirement already satisfied: scipy>=0.19.1 in c:\\users\\vbhak\\anaconda3\\lib\\site-packages (from imbalanced-learn->imblearn) (1.6.2)\n",
      "Requirement already satisfied: numpy>=1.13.3 in c:\\users\\vbhak\\anaconda3\\lib\\site-packages (from imbalanced-learn->imblearn) (1.19.5)\n",
      "Requirement already satisfied: joblib>=0.11 in c:\\users\\vbhak\\anaconda3\\lib\\site-packages (from imbalanced-learn->imblearn) (1.0.1)\n",
      "Requirement already satisfied: scikit-learn>=0.24 in c:\\users\\vbhak\\anaconda3\\lib\\site-packages (from imbalanced-learn->imblearn) (0.24.2)\n",
      "Requirement already satisfied: threadpoolctl>=2.0.0 in c:\\users\\vbhak\\anaconda3\\lib\\site-packages (from scikit-learn>=0.24->imbalanced-learn->imblearn) (2.1.0)\n",
      "0.8.0\n"
     ]
    }
   ],
   "source": [
    "!pip install imblearn\n",
    "import imblearn\n",
    "print(imblearn.__version__)\n",
    "from imblearn.over_sampling import SMOTE\n"
   ]
  },
  {
   "cell_type": "code",
   "execution_count": 48,
   "metadata": {},
   "outputs": [
    {
     "name": "stdout",
     "output_type": "stream",
     "text": [
      "Class=0, n=43 (26.875%)\n",
      "Class=1, n=76 (47.500%)\n",
      "Class=2, n=11 (6.875%)\n",
      "Class=3, n=17 (10.625%)\n",
      "Class=4, n=13 (8.125%)\n"
     ]
    }
   ],
   "source": [
    "\n",
    "# Generate and plot a synthetic imbalanced classification\n",
    "from six.moves import collections_abc\n",
    "from collections import Counter\n",
    "# summarize distribution\n",
    "counter = Counter(y)\n",
    "for k,v in counter.items():\n",
    "    per = v / len(y) * 100\n",
    "    print('Class=%d, n=%d (%.3f%%)' % (k, v, per))"
   ]
  },
  {
   "cell_type": "code",
   "execution_count": 49,
   "metadata": {},
   "outputs": [
    {
     "name": "stdout",
     "output_type": "stream",
     "text": [
      "Class=0, n=116 (17.339%)\n",
      "Class=1, n=143 (21.375%)\n",
      "Class=2, n=130 (19.432%)\n",
      "Class=3, n=155 (23.169%)\n",
      "Class=4, n=125 (18.685%)\n"
     ]
    }
   ],
   "source": [
    "# transform the dataset\n",
    "#oversample = SMOTE()\n",
    "#X, y = oversample.fit_resample(X, y)\n",
    "# transform the dataset\n",
    "strategy = {0:116, 1:143, 2:130, 3:155, 4:125}\n",
    "oversample = SMOTE(sampling_strategy=strategy)\n",
    "X, y = oversample.fit_resample(X, y)\n",
    "# summarize distribution\n",
    "counter = Counter(y)\n",
    "for k,v in counter.items():\n",
    "    per = v / len(y) * 100\n",
    "    print('Class=%d, n=%d (%.3f%%)' % (k, v, per))\n",
    "# plot the distribution\n",
    "#pyplot.bar(counter.keys(), counter.values())\n",
    "#pyplot.show()"
   ]
  },
  {
   "cell_type": "code",
   "execution_count": 50,
   "metadata": {
    "colab": {},
    "colab_type": "code",
    "id": "ACLlY1Q5gUcp"
   },
   "outputs": [],
   "source": [
    "from sklearn.model_selection import train_test_split\n",
    "def generate():\n",
    "    return train_test_split(X, y, test_size=0.25, random_state=1)     # train test split using train_test_split of 75:25 and random state=1\n",
    "X_train, X_test, y_train, y_test = generate()"
   ]
  },
  {
   "cell_type": "code",
   "execution_count": 51,
   "metadata": {},
   "outputs": [
    {
     "name": "stdout",
     "output_type": "stream",
     "text": [
      "Dimension of Train set (501, 5)\n",
      "Dimension of Test set (168,) \n",
      "\n"
     ]
    }
   ],
   "source": [
    "# Dimension of Train and Test set \n",
    "print(\"Dimension of Train set\",X_train.shape)\n",
    "print(\"Dimension of Test set\",y_test.shape,\"\\n\")"
   ]
  },
  {
   "cell_type": "markdown",
   "metadata": {
    "colab_type": "text",
    "id": "gLBuVD7-gUdJ"
   },
   "source": [
    "###  Use StandardScaler to normalize X\n",
    "\n",
    "- **Fit** the scaler on **X**.\n",
    "\n",
    "- **Return** the transform of **X** obtained using `.transform(X)` on the **scaler**."
   ]
  },
  {
   "cell_type": "code",
   "execution_count": 52,
   "metadata": {
    "colab": {},
    "colab_type": "code",
    "id": "QNuOa5KJgUdJ"
   },
   "outputs": [],
   "source": [
    "from sklearn.preprocessing import StandardScaler\n",
    "\n",
    "from sklearn.preprocessing import StandardScaler\n",
    "scaler= StandardScaler()              # Your code here\n",
    "X_train=scaler.fit_transform(X_train) #standardized X_train\n",
    "X_test=scaler.transform(X_test)       #standardized \n",
    "\n",
    "X_Insaid_test_s=scaler.transform(X_Insaid_test)"
   ]
  },
  {
   "cell_type": "markdown",
   "metadata": {
    "colab_type": "text",
    "id": "8Z-EFSx-gUcs"
   },
   "source": [
    "### Check the shape of X and y of train dataset"
   ]
  },
  {
   "cell_type": "code",
   "execution_count": 53,
   "metadata": {
    "colab": {},
    "colab_type": "code",
    "id": "tfuRuCwHgUct"
   },
   "outputs": [
    {
     "data": {
      "text/plain": [
       "(501, 5)"
      ]
     },
     "execution_count": 53,
     "metadata": {},
     "output_type": "execute_result"
    }
   ],
   "source": [
    "def generate():\n",
    "  # your code here\n",
    "    return  X_train.shape\n",
    "generate()"
   ]
  },
  {
   "cell_type": "markdown",
   "metadata": {
    "colab_type": "text",
    "id": "ttv4rKVGgUcx"
   },
   "source": [
    "###  Check the shape of X and y of test dataset"
   ]
  },
  {
   "cell_type": "code",
   "execution_count": 54,
   "metadata": {
    "colab": {},
    "colab_type": "code",
    "id": "82osjvEHgUcx"
   },
   "outputs": [
    {
     "data": {
      "text/plain": [
       "(501,)"
      ]
     },
     "execution_count": 54,
     "metadata": {},
     "output_type": "execute_result"
    }
   ],
   "source": [
    "def generate():\n",
    "    # your code here\n",
    "    return   y_train.shape\n",
    "generate()"
   ]
  },
  {
   "cell_type": "markdown",
   "metadata": {},
   "source": [
    "###  Instantiate Logistic Regression Classifier using scikit learn"
   ]
  },
  {
   "cell_type": "code",
   "execution_count": 55,
   "metadata": {},
   "outputs": [],
   "source": [
    "from sklearn.linear_model import LogisticRegression\n",
    "def log():\n",
    "    logreg=LogisticRegression() # initiate the logistic regression model to new variable logreg\n",
    "    return logreg\n",
    "logreg = log()"
   ]
  },
  {
   "cell_type": "code",
   "execution_count": 56,
   "metadata": {},
   "outputs": [],
   "source": [
    "def log():\n",
    "    logreg.fit(X_train,y_train)\n",
    "log() \n"
   ]
  },
  {
   "cell_type": "code",
   "execution_count": 57,
   "metadata": {},
   "outputs": [],
   "source": [
    "y_pred_train = pd.DataFrame()\n",
    "def log():\n",
    "    y_pred_train = logreg.predict(X_train) # create the model prediction on X_train data using the above created dataframe\n",
    "    return y_pred_train\n",
    "y_pred_train = log()"
   ]
  },
  {
   "cell_type": "code",
   "execution_count": 58,
   "metadata": {},
   "outputs": [],
   "source": [
    "y_pred_test = pd.DataFrame()\n",
    "def log():\n",
    "    y_pred_test = logreg.predict(X_test)# create the model prediction on X_test data using the above created dataframe\n",
    "    return y_pred_test\n",
    "y_pred_test = log()"
   ]
  },
  {
   "cell_type": "code",
   "execution_count": 59,
   "metadata": {},
   "outputs": [],
   "source": [
    "y_pred_Insaid = pd.DataFrame()\n",
    "def log():\n",
    "    y_pred_Insaid = logreg.predict(X_Insaid_test_s)# create the model prediction on X_test data using the above created dataframe\n",
    "    return y_pred_Insaid\n",
    "y_pred_Insaid = log()\n"
   ]
  },
  {
   "cell_type": "code",
   "execution_count": 60,
   "metadata": {},
   "outputs": [
    {
     "name": "stdout",
     "output_type": "stream",
     "text": [
      "[0 3 0 2 1 1 1 0 3 0 3 0 1 3 4 1 4 0 2 1 4 0 0 1 1 1 2 0 1 0 1 2 2 1 3 1 4\n",
      " 3 1 3]\n"
     ]
    }
   ],
   "source": [
    "print(y_pred_Insaid)"
   ]
  },
  {
   "cell_type": "code",
   "execution_count": 61,
   "metadata": {},
   "outputs": [
    {
     "data": {
      "text/plain": [
       "Index(['Age', 'Cholesterol', 'Na_to_K', 'BP_LOW', 'BP_NORMAL'], dtype='object')"
      ]
     },
     "execution_count": 61,
     "metadata": {},
     "output_type": "execute_result"
    }
   ],
   "source": [
    "X_Insaid_test.columns"
   ]
  },
  {
   "cell_type": "code",
   "execution_count": 62,
   "metadata": {},
   "outputs": [],
   "source": [
    "X_Insaid_test.drop(['Age','Cholesterol', 'Na_to_K', 'BP_LOW', 'BP_NORMAL'],axis=1,inplace=True)"
   ]
  },
  {
   "cell_type": "code",
   "execution_count": 63,
   "metadata": {},
   "outputs": [
    {
     "data": {
      "text/html": [
       "<div>\n",
       "<style scoped>\n",
       "    .dataframe tbody tr th:only-of-type {\n",
       "        vertical-align: middle;\n",
       "    }\n",
       "\n",
       "    .dataframe tbody tr th {\n",
       "        vertical-align: top;\n",
       "    }\n",
       "\n",
       "    .dataframe thead th {\n",
       "        text-align: right;\n",
       "    }\n",
       "</style>\n",
       "<table border=\"1\" class=\"dataframe\">\n",
       "  <thead>\n",
       "    <tr style=\"text-align: right;\">\n",
       "      <th></th>\n",
       "      <th>Drugs</th>\n",
       "    </tr>\n",
       "  </thead>\n",
       "  <tbody>\n",
       "    <tr>\n",
       "      <th>0</th>\n",
       "      <td>0</td>\n",
       "    </tr>\n",
       "    <tr>\n",
       "      <th>1</th>\n",
       "      <td>3</td>\n",
       "    </tr>\n",
       "    <tr>\n",
       "      <th>2</th>\n",
       "      <td>0</td>\n",
       "    </tr>\n",
       "    <tr>\n",
       "      <th>3</th>\n",
       "      <td>2</td>\n",
       "    </tr>\n",
       "    <tr>\n",
       "      <th>4</th>\n",
       "      <td>1</td>\n",
       "    </tr>\n",
       "  </tbody>\n",
       "</table>\n",
       "</div>"
      ],
      "text/plain": [
       "   Drugs\n",
       "0      0\n",
       "1      3\n",
       "2      0\n",
       "3      2\n",
       "4      1"
      ]
     },
     "execution_count": 63,
     "metadata": {},
     "output_type": "execute_result"
    }
   ],
   "source": [
    "y_Insaid=pd.DataFrame(y_pred_Insaid)\n",
    "y_Insaid.columns = ['Drugs']\n",
    "y_Insaid.head()"
   ]
  },
  {
   "cell_type": "code",
   "execution_count": 64,
   "metadata": {},
   "outputs": [],
   "source": [
    "#from sklearn import preprocessing\n",
    "\n",
    "#y_Insaid = encoder.inverse_transform(y_pred_Insaid)\n",
    "# show the dataframe\n",
    "y_Insaid =pd.DataFrame(y_Insaid)\n",
    "y_Insaid.columns = ['Drugs']\n"
   ]
  },
  {
   "cell_type": "code",
   "execution_count": 65,
   "metadata": {},
   "outputs": [
    {
     "data": {
      "text/html": [
       "<div>\n",
       "<style scoped>\n",
       "    .dataframe tbody tr th:only-of-type {\n",
       "        vertical-align: middle;\n",
       "    }\n",
       "\n",
       "    .dataframe tbody tr th {\n",
       "        vertical-align: top;\n",
       "    }\n",
       "\n",
       "    .dataframe thead th {\n",
       "        text-align: right;\n",
       "    }\n",
       "</style>\n",
       "<table border=\"1\" class=\"dataframe\">\n",
       "  <thead>\n",
       "    <tr style=\"text-align: right;\">\n",
       "      <th></th>\n",
       "      <th>Drugs</th>\n",
       "    </tr>\n",
       "    <tr>\n",
       "      <th>Id</th>\n",
       "      <th></th>\n",
       "    </tr>\n",
       "  </thead>\n",
       "  <tbody>\n",
       "    <tr>\n",
       "      <th>95</th>\n",
       "      <td>0</td>\n",
       "    </tr>\n",
       "    <tr>\n",
       "      <th>15</th>\n",
       "      <td>3</td>\n",
       "    </tr>\n",
       "    <tr>\n",
       "      <th>30</th>\n",
       "      <td>0</td>\n",
       "    </tr>\n",
       "    <tr>\n",
       "      <th>158</th>\n",
       "      <td>2</td>\n",
       "    </tr>\n",
       "    <tr>\n",
       "      <th>128</th>\n",
       "      <td>1</td>\n",
       "    </tr>\n",
       "  </tbody>\n",
       "</table>\n",
       "</div>"
      ],
      "text/plain": [
       "     Drugs\n",
       "Id        \n",
       "95       0\n",
       "15       3\n",
       "30       0\n",
       "158      2\n",
       "128      1"
      ]
     },
     "execution_count": 65,
     "metadata": {},
     "output_type": "execute_result"
    }
   ],
   "source": [
    "Drug_Insaid= pd.concat ([X_Insaid_test,y_Insaid.set_index(X_Insaid_test.index)], axis=1)\n",
    "Drug_Insaid.head()"
   ]
  },
  {
   "cell_type": "code",
   "execution_count": 66,
   "metadata": {},
   "outputs": [
    {
     "name": "stdout",
     "output_type": "stream",
     "text": [
      "Accuracy score for test data is: 0.9464285714285714\n"
     ]
    }
   ],
   "source": [
    "import numpy as np\n",
    "from sklearn.metrics import accuracy_score\n",
    "\n",
    "preds2 = np.where(logreg.predict_proba(X_test)[:,1]> 0.25,1,0)\n",
    "print('Accuracy score for test data is:', accuracy_score(y_test,y_pred_test))# compute and print the accuracy score\n",
    "    "
   ]
  },
  {
   "cell_type": "code",
   "execution_count": 67,
   "metadata": {},
   "outputs": [
    {
     "name": "stdout",
     "output_type": "stream",
     "text": [
      "              precision    recall  f1-score   support\n",
      "\n",
      "           0       1.00      0.90      0.95        21\n",
      "           1       1.00      0.78      0.88        32\n",
      "           2       0.89      1.00      0.94        40\n",
      "           3       0.95      1.00      0.98        42\n",
      "           4       0.94      1.00      0.97        33\n",
      "\n",
      "    accuracy                           0.95       168\n",
      "   macro avg       0.96      0.94      0.94       168\n",
      "weighted avg       0.95      0.95      0.94       168\n",
      "\n"
     ]
    }
   ],
   "source": [
    "print(classification_report(y_test,y_pred_test))"
   ]
  },
  {
   "cell_type": "code",
   "execution_count": 68,
   "metadata": {},
   "outputs": [
    {
     "data": {
      "text/plain": [
       "array([[ 77,   1,   0,  14,   3],\n",
       "       [  0, 109,   0,   0,   2],\n",
       "       [  0,   0,  90,   0,   0],\n",
       "       [  0,   0,   0, 113,   0],\n",
       "       [  0,   0,   0,   1,  91]], dtype=int64)"
      ]
     },
     "execution_count": 68,
     "metadata": {},
     "output_type": "execute_result"
    }
   ],
   "source": [
    "# building confusion matrix\n",
    "from sklearn.metrics import confusion_matrix\n",
    "y_unique = np.unique(y_train)\n",
    "mcm=confusion_matrix(y_train,y_pred_train,labels = y_unique)\n",
    "mcm"
   ]
  },
  {
   "cell_type": "code",
   "execution_count": 69,
   "metadata": {},
   "outputs": [
    {
     "data": {
      "text/plain": [
       "<AxesSubplot:>"
      ]
     },
     "execution_count": 69,
     "metadata": {},
     "output_type": "execute_result"
    },
    {
     "data": {
      "image/png": "[encoded data removed]",
      "text/plain": [
       "<Figure size 432x288 with 2 Axes>"
      ]
     },
     "metadata": {
      "needs_background": "light"
     },
     "output_type": "display_data"
    }
   ],
   "source": [
    "import seaborn as sns\n",
    "sns.heatmap(mcm, annot=True,cmap='BuGn',linewidths=1, linecolor='black')"
   ]
  },
  {
   "cell_type": "markdown",
   "metadata": {},
   "source": [
    "**Observations**\n",
    "- Diagonal values are TP of each class , 0 belongs to DrugY and 4 belongs to DrugX and 1, 2 and 3 are drugA,drugB and drugC respectively\n",
    "- Out of 120 our logistic regression classifier has classified the **all drugs correctly**, except **2 of drugX are wrongly classified as drugY**"
   ]
  },
  {
   "cell_type": "code",
   "execution_count": 70,
   "metadata": {},
   "outputs": [
    {
     "data": {
      "text/plain": [
       "array([[19,  0,  0,  2,  0],\n",
       "       [ 0, 25,  5,  0,  2],\n",
       "       [ 0,  0, 40,  0,  0],\n",
       "       [ 0,  0,  0, 42,  0],\n",
       "       [ 0,  0,  0,  0, 33]], dtype=int64)"
      ]
     },
     "execution_count": 70,
     "metadata": {},
     "output_type": "execute_result"
    }
   ],
   "source": [
    "# building confusion matrix\n",
    "from sklearn.metrics import confusion_matrix\n",
    "y_unique = np.unique(y_test)\n",
    "mcm1=confusion_matrix(y_test,y_pred_test,labels = y_unique)\n",
    "mcm1"
   ]
  },
  {
   "cell_type": "code",
   "execution_count": 71,
   "metadata": {},
   "outputs": [
    {
     "data": {
      "text/plain": [
       "<AxesSubplot:>"
      ]
     },
     "execution_count": 71,
     "metadata": {},
     "output_type": "execute_result"
    },
    {
     "data": {
      "image/png": "[encoded data removed]",
      "text/plain": [
       "<Figure size 432x288 with 2 Axes>"
      ]
     },
     "metadata": {
      "needs_background": "light"
     },
     "output_type": "display_data"
    }
   ],
   "source": [
    "import seaborn as sns\n",
    "sns.heatmap(mcm1, annot=True,cmap='GnBu',linewidths=1, linecolor='black')"
   ]
  },
  {
   "cell_type": "markdown",
   "metadata": {},
   "source": [
    "**Observations**\n",
    "- Diagonal values are TP of each class , 0 belongs to DrugY and 4 belongs to DrugX and 1, 2 and 3 are drugA,drugB and drugC respectively same as above\n",
    "- Out of 40 test samples, our logistic regression classifier has classified the **all of drugY,drugA and drugC** correctly, however, **3 of drugX and 1 of drugB** are **wrongly** classified as drugY "
   ]
  },
  {
   "cell_type": "markdown",
   "metadata": {
    "colab_type": "text",
    "id": "KVchXlt3gUc0"
   },
   "source": [
    "###  Instantiate RandomForestClassifier using scikit learn\n",
    "\n",
    "- Use `random_state` equal to **0**."
   ]
  },
  {
   "cell_type": "code",
   "execution_count": 72,
   "metadata": {
    "colab": {},
    "colab_type": "code",
    "id": "gpM5T6T5gUc1"
   },
   "outputs": [],
   "source": [
    "from sklearn.ensemble import RandomForestClassifier\n",
    "def generate():\n",
    "    rfc =  RandomForestClassifier(random_state=0)## instantiate RandomForestClassifer to new variable rfc\n",
    "    return rfc\n",
    "rfc = generate()"
   ]
  },
  {
   "cell_type": "markdown",
   "metadata": {
    "colab_type": "text",
    "id": "J5HddILCgUc-"
   },
   "source": [
    "### Fit the classifier model on X_train and y_train . "
   ]
  },
  {
   "cell_type": "code",
   "execution_count": 73,
   "metadata": {
    "colab": {},
    "colab_type": "code",
    "id": "FcVjjZSUgUc_"
   },
   "outputs": [
    {
     "data": {
      "text/plain": [
       "RandomForestClassifier(random_state=0)"
      ]
     },
     "execution_count": 73,
     "metadata": {},
     "output_type": "execute_result"
    }
   ],
   "source": [
    "\n",
    "rfc.fit(X_train,y_train) # code to fit the model \n",
    "    "
   ]
  },
  {
   "cell_type": "markdown",
   "metadata": {
    "colab_type": "text",
    "id": "OR1smwrKgUdC"
   },
   "source": [
    "###  Use the model for making predictions on X_test."
   ]
  },
  {
   "cell_type": "code",
   "execution_count": 74,
   "metadata": {
    "colab": {},
    "colab_type": "code",
    "id": "3SrCjChIgUdC"
   },
   "outputs": [],
   "source": [
    "predictions = pd.DataFrame()\n",
    "def generate():\n",
    "    # predictions\n",
    "    predictions = rfc.predict(X_test)# create the model prediction on X_test data using the above created dataframe\n",
    "    return predictions\n",
    "predictions = generate()"
   ]
  },
  {
   "cell_type": "code",
   "execution_count": 75,
   "metadata": {},
   "outputs": [],
   "source": [
    "predictions_Insaid = pd.DataFrame()\n",
    "def generate():\n",
    "    # predictions\n",
    "    predictions_Insaid = rfc.predict(X_Insaid_test_s)# create the model prediction on X_test data using the above created dataframe\n",
    "    return predictions_Insaid\n",
    "predictions_Insaid = generate()"
   ]
  },
  {
   "cell_type": "code",
   "execution_count": 76,
   "metadata": {},
   "outputs": [
    {
     "name": "stdout",
     "output_type": "stream",
     "text": [
      "[0 1 0 2 1 1 1 0 0 0 3 0 1 3 4 1 4 0 2 1 4 0 0 1 1 1 2 0 1 0 1 2 2 1 3 1 0\n",
      " 3 1 3]\n"
     ]
    }
   ],
   "source": [
    "print(predictions_Insaid)"
   ]
  },
  {
   "cell_type": "code",
   "execution_count": 77,
   "metadata": {},
   "outputs": [],
   "source": [
    "from sklearn import preprocessing\n",
    "\n",
    "#Insaid_drug_test = encoder.inverse_transform(predictions_Insaid)\n",
    "# show the dataframe\n",
    "Insaid_drug_test =pd.DataFrame(predictions_Insaid)\n",
    "Insaid_drug_test.columns = ['Drugs']"
   ]
  },
  {
   "cell_type": "code",
   "execution_count": 78,
   "metadata": {},
   "outputs": [
    {
     "data": {
      "text/html": [
       "<div>\n",
       "<style scoped>\n",
       "    .dataframe tbody tr th:only-of-type {\n",
       "        vertical-align: middle;\n",
       "    }\n",
       "\n",
       "    .dataframe tbody tr th {\n",
       "        vertical-align: top;\n",
       "    }\n",
       "\n",
       "    .dataframe thead th {\n",
       "        text-align: right;\n",
       "    }\n",
       "</style>\n",
       "<table border=\"1\" class=\"dataframe\">\n",
       "  <thead>\n",
       "    <tr style=\"text-align: right;\">\n",
       "      <th></th>\n",
       "      <th>Drugs</th>\n",
       "    </tr>\n",
       "    <tr>\n",
       "      <th>Id</th>\n",
       "      <th></th>\n",
       "    </tr>\n",
       "  </thead>\n",
       "  <tbody>\n",
       "    <tr>\n",
       "      <th>95</th>\n",
       "      <td>0</td>\n",
       "    </tr>\n",
       "    <tr>\n",
       "      <th>15</th>\n",
       "      <td>1</td>\n",
       "    </tr>\n",
       "    <tr>\n",
       "      <th>30</th>\n",
       "      <td>0</td>\n",
       "    </tr>\n",
       "    <tr>\n",
       "      <th>158</th>\n",
       "      <td>2</td>\n",
       "    </tr>\n",
       "    <tr>\n",
       "      <th>128</th>\n",
       "      <td>1</td>\n",
       "    </tr>\n",
       "  </tbody>\n",
       "</table>\n",
       "</div>"
      ],
      "text/plain": [
       "     Drugs\n",
       "Id        \n",
       "95       0\n",
       "15       1\n",
       "30       0\n",
       "158      2\n",
       "128      1"
      ]
     },
     "execution_count": 78,
     "metadata": {},
     "output_type": "execute_result"
    }
   ],
   "source": [
    "\n",
    "DrugRFC_Insaid= pd.concat ([X_Insaid_test,Insaid_drug_test.set_index(X_Insaid_test.index)], axis=1)\n",
    "DrugRFC_Insaid.head()"
   ]
  },
  {
   "cell_type": "code",
   "execution_count": 79,
   "metadata": {},
   "outputs": [],
   "source": [
    "DrugRFC_Insaid.to_csv(\"submission_Insaid_drug_test_RFC.csv\",index=True, header=False)"
   ]
  },
  {
   "cell_type": "code",
   "execution_count": 80,
   "metadata": {},
   "outputs": [
    {
     "data": {
      "text/plain": [
       "array([[20,  0,  0,  1,  0],\n",
       "       [ 0, 32,  0,  0,  0],\n",
       "       [ 0,  0, 40,  0,  0],\n",
       "       [ 0,  0,  0, 42,  0],\n",
       "       [ 1,  0,  0,  0, 32]], dtype=int64)"
      ]
     },
     "execution_count": 80,
     "metadata": {},
     "output_type": "execute_result"
    }
   ],
   "source": [
    "# building confusion matrix\n",
    "from sklearn.metrics import confusion_matrix\n",
    "y_unique = np.unique(y_train)\n",
    "mcmRFC=confusion_matrix(y_test,predictions,labels = y_unique)\n",
    "mcmRFC\n"
   ]
  },
  {
   "cell_type": "code",
   "execution_count": 81,
   "metadata": {},
   "outputs": [
    {
     "data": {
      "text/plain": [
       "<AxesSubplot:>"
      ]
     },
     "execution_count": 81,
     "metadata": {},
     "output_type": "execute_result"
    },
    {
     "data": {
      "image/png": "[encoded data removed]",
      "text/plain": [
       "<Figure size 432x288 with 2 Axes>"
      ]
     },
     "metadata": {
      "needs_background": "light"
     },
     "output_type": "display_data"
    }
   ],
   "source": [
    "import seaborn as sns\n",
    "sns.heatmap(mcmRFC, annot=True,cmap='BuGn',linewidths=1, linecolor='black')"
   ]
  },
  {
   "cell_type": "markdown",
   "metadata": {},
   "source": [
    "**Observations**\n",
    "- Diagonal values are TP of each class , 0 belongs to DrugY and 4 belongs to DrugX and 1, 2 and 3 are drugA,drugB and drugC respectively\n",
    "- Out of 40 our logistic regression classifier has classified the **all drugs correctly**, except **1 of drugX are wrongly classified as drugY**"
   ]
  },
  {
   "cell_type": "code",
   "execution_count": 82,
   "metadata": {},
   "outputs": [
    {
     "name": "stdout",
     "output_type": "stream",
     "text": [
      "              precision    recall  f1-score   support\n",
      "\n",
      "           0       0.95      0.95      0.95        21\n",
      "           1       1.00      1.00      1.00        32\n",
      "           2       1.00      1.00      1.00        40\n",
      "           3       0.98      1.00      0.99        42\n",
      "           4       1.00      0.97      0.98        33\n",
      "\n",
      "    accuracy                           0.99       168\n",
      "   macro avg       0.99      0.98      0.99       168\n",
      "weighted avg       0.99      0.99      0.99       168\n",
      "\n"
     ]
    }
   ],
   "source": [
    "print(classification_report(y_test,predictions))"
   ]
  },
  {
   "cell_type": "code",
   "execution_count": 83,
   "metadata": {},
   "outputs": [],
   "source": [
    "from sklearn.model_selection import cross_val_score\n",
    "from sklearn.metrics import classification_report, confusion_matrix,roc_auc_score\n",
    "import sklearn.metrics as metrics "
   ]
  },
  {
   "cell_type": "code",
   "execution_count": 84,
   "metadata": {},
   "outputs": [],
   "source": [
    "#Cross Validation \n",
    "rfc_cv_score = cross_val_score(rfc, X, y, cv=5, scoring='accuracy')"
   ]
  },
  {
   "cell_type": "code",
   "execution_count": 85,
   "metadata": {},
   "outputs": [
    {
     "name": "stdout",
     "output_type": "stream",
     "text": [
      "=== Confusion Matrix ===\n",
      "[[20  0  0  1  0]\n",
      " [ 0 32  0  0  0]\n",
      " [ 0  0 40  0  0]\n",
      " [ 0  0  0 42  0]\n",
      " [ 1  0  0  0 32]]\n",
      "\n",
      "\n",
      "=== Classification Report ===\n",
      "              precision    recall  f1-score   support\n",
      "\n",
      "           0       0.95      0.95      0.95        21\n",
      "           1       1.00      1.00      1.00        32\n",
      "           2       1.00      1.00      1.00        40\n",
      "           3       0.98      1.00      0.99        42\n",
      "           4       1.00      0.97      0.98        33\n",
      "\n",
      "    accuracy                           0.99       168\n",
      "   macro avg       0.99      0.98      0.99       168\n",
      "weighted avg       0.99      0.99      0.99       168\n",
      "\n",
      "\n",
      "\n",
      "=== All AUC Scores ===\n",
      "[0.98507463 0.99253731 0.97761194 0.94776119 0.98496241]\n",
      "\n",
      "\n",
      "=== Mean AUC Score ===\n",
      "Mean AUC Score - Random Forest:  0.9775894961283808\n"
     ]
    }
   ],
   "source": [
    "print(\"=== Confusion Matrix ===\")\n",
    "print(confusion_matrix(y_test, predictions))\n",
    "print('\\n')\n",
    "print(\"=== Classification Report ===\")\n",
    "print(classification_report(y_test, predictions))\n",
    "print('\\n')\n",
    "print(\"=== All AUC Scores ===\")\n",
    "print(rfc_cv_score)\n",
    "print('\\n')\n",
    "print(\"=== Mean AUC Score ===\")\n",
    "print(\"Mean AUC Score - Random Forest: \", rfc_cv_score.mean())"
   ]
  },
  {
   "cell_type": "markdown",
   "metadata": {
    "colab_type": "text",
    "id": "nb-TuyKOgUc6"
   },
   "source": [
    "### Use RandomizedSearchCV  for hyperparameter tuning of your random forest classifier.\n",
    "\n",
    "- Keep `n_iter` as **50** and `random_state` as **0** for the RandomizedSearchCV.\n",
    "\n",
    "- For the parameter grid use the below values:\n",
    "\n",
    "    - `max_depth`: **range(2, 5)**                            \n",
    "\n",
    "    - `min_samples_split`: **sp_randint(2, 11)**\n",
    "\n",
    "    - `min_samples_leaf`: **sp_randint(1, 11)**\n",
    "\n",
    "    - `n_estimators`: **[100, 400, 700, 1000, 1500]**\n",
    "\n",
    "    - `max_features`: **['sqrt', 'log2', None]**"
   ]
  },
  {
   "cell_type": "code",
   "execution_count": 86,
   "metadata": {
    "colab": {},
    "colab_type": "code",
    "id": "gHflS-nGgUc7"
   },
   "outputs": [],
   "source": [
    "from sklearn.model_selection import RandomizedSearchCV\n",
    "from scipy.stats import randint as sp_randint\n",
    "\n",
    "max_depth=range(2, 5)\n",
    "min_samples_split=sp_randint(2, 11)\n",
    "min_samples_leaf=sp_randint(1, 11)\n",
    "n_estimators =[100, 400, 700, 1000, 1500]\n",
    "max_features=['sqrt', 'log2', None]\n",
    "\n",
    "r_grid={ 'n_estimators':  n_estimators,\n",
    "            'max_depth': max_depth,\n",
    "\n",
    "            'min_samples_split': min_samples_split,\n",
    "\n",
    "            'min_samples_leaf':min_samples_leaf, \n",
    "\n",
    "            'max_features':  max_features}\n",
    "\n",
    "\n",
    "def generate():\n",
    "    rfc_random = RandomizedSearchCV(estimator = rfc,param_distributions=r_grid, n_iter = 50, random_state=0)  # your code here\n",
    "    return rfc_random    # variable for RandomizedSearchCV model\n",
    "rfc_random = generate()"
   ]
  },
  {
   "cell_type": "code",
   "execution_count": 87,
   "metadata": {},
   "outputs": [],
   "source": [
    "rfc_random.fit(X_train, y_train);"
   ]
  },
  {
   "cell_type": "code",
   "execution_count": 88,
   "metadata": {},
   "outputs": [
    {
     "name": "stdout",
     "output_type": "stream",
     "text": [
      "{'max_depth': 4, 'max_features': None, 'min_samples_leaf': 1, 'min_samples_split': 5, 'n_estimators': 1500}\n"
     ]
    }
   ],
   "source": [
    "#Hyperparameter Tuning\n",
    "print(rfc_random.best_params_)"
   ]
  },
  {
   "cell_type": "code",
   "execution_count": 89,
   "metadata": {},
   "outputs": [
    {
     "name": "stdout",
     "output_type": "stream",
     "text": [
      "0.9880952380952381\n"
     ]
    }
   ],
   "source": [
    "best_random=rfc_random.best_estimator_\n",
    "#Hyperparameter Tuning\n",
    "print(best_random.score(X_test , y_test))"
   ]
  },
  {
   "cell_type": "code",
   "execution_count": 90,
   "metadata": {},
   "outputs": [],
   "source": [
    "pred_y_test = pd.DataFrame()\n",
    "def generate():\n",
    "    # predictions\n",
    "    pred_y_test = rfc_random.predict(X_test)# create the model prediction on X_test data using the above created dataframe\n",
    "    return pred_y_test\n",
    "pred_y_test = generate()"
   ]
  },
  {
   "cell_type": "code",
   "execution_count": 91,
   "metadata": {},
   "outputs": [],
   "source": [
    "pred_Insaid_y = pd.DataFrame()\n",
    "def generate():\n",
    "    # predictions\n",
    "    pred_Insaid_y = rfc_random.predict(X_Insaid_test_s)# create the model prediction on X_test data using the above created dataframe\n",
    "    return pred_Insaid_y\n",
    "pred_Insaid_y = generate()"
   ]
  },
  {
   "cell_type": "code",
   "execution_count": 92,
   "metadata": {},
   "outputs": [
    {
     "name": "stdout",
     "output_type": "stream",
     "text": [
      "[0 1 0 2 1 1 1 0 3 0 3 0 1 3 4 1 4 0 2 1 4 0 0 1 1 1 2 0 1 0 1 2 2 1 3 1 0\n",
      " 3 1 3]\n"
     ]
    }
   ],
   "source": [
    "print(pred_Insaid_y)"
   ]
  },
  {
   "cell_type": "code",
   "execution_count": 93,
   "metadata": {},
   "outputs": [
    {
     "data": {
      "text/html": [
       "<div>\n",
       "<style scoped>\n",
       "    .dataframe tbody tr th:only-of-type {\n",
       "        vertical-align: middle;\n",
       "    }\n",
       "\n",
       "    .dataframe tbody tr th {\n",
       "        vertical-align: top;\n",
       "    }\n",
       "\n",
       "    .dataframe thead th {\n",
       "        text-align: right;\n",
       "    }\n",
       "</style>\n",
       "<table border=\"1\" class=\"dataframe\">\n",
       "  <thead>\n",
       "    <tr style=\"text-align: right;\">\n",
       "      <th></th>\n",
       "      <th>Drugs</th>\n",
       "    </tr>\n",
       "  </thead>\n",
       "  <tbody>\n",
       "    <tr>\n",
       "      <th>0</th>\n",
       "      <td>0</td>\n",
       "    </tr>\n",
       "    <tr>\n",
       "      <th>1</th>\n",
       "      <td>1</td>\n",
       "    </tr>\n",
       "    <tr>\n",
       "      <th>2</th>\n",
       "      <td>0</td>\n",
       "    </tr>\n",
       "    <tr>\n",
       "      <th>3</th>\n",
       "      <td>2</td>\n",
       "    </tr>\n",
       "    <tr>\n",
       "      <th>4</th>\n",
       "      <td>1</td>\n",
       "    </tr>\n",
       "  </tbody>\n",
       "</table>\n",
       "</div>"
      ],
      "text/plain": [
       "   Drugs\n",
       "0      0\n",
       "1      1\n",
       "2      0\n",
       "3      2\n",
       "4      1"
      ]
     },
     "execution_count": 93,
     "metadata": {},
     "output_type": "execute_result"
    }
   ],
   "source": [
    "from sklearn import preprocessing\n",
    "\n",
    "#Insaid_drug_test_RFC_Random = encoder.inverse_transform(pred_Insaid_y)\n",
    "Insaid_drug_test_RFC_Random=pd.DataFrame(pred_Insaid_y)\n",
    "Insaid_drug_test_RFC_Random.columns = ['Drugs']\n",
    "Insaid_drug_test_RFC_Random.head()"
   ]
  },
  {
   "cell_type": "code",
   "execution_count": 94,
   "metadata": {},
   "outputs": [
    {
     "data": {
      "text/html": [
       "<div>\n",
       "<style scoped>\n",
       "    .dataframe tbody tr th:only-of-type {\n",
       "        vertical-align: middle;\n",
       "    }\n",
       "\n",
       "    .dataframe tbody tr th {\n",
       "        vertical-align: top;\n",
       "    }\n",
       "\n",
       "    .dataframe thead th {\n",
       "        text-align: right;\n",
       "    }\n",
       "</style>\n",
       "<table border=\"1\" class=\"dataframe\">\n",
       "  <thead>\n",
       "    <tr style=\"text-align: right;\">\n",
       "      <th></th>\n",
       "      <th>Drugs</th>\n",
       "    </tr>\n",
       "    <tr>\n",
       "      <th>Id</th>\n",
       "      <th></th>\n",
       "    </tr>\n",
       "  </thead>\n",
       "  <tbody>\n",
       "    <tr>\n",
       "      <th>95</th>\n",
       "      <td>0</td>\n",
       "    </tr>\n",
       "    <tr>\n",
       "      <th>15</th>\n",
       "      <td>1</td>\n",
       "    </tr>\n",
       "    <tr>\n",
       "      <th>30</th>\n",
       "      <td>0</td>\n",
       "    </tr>\n",
       "    <tr>\n",
       "      <th>158</th>\n",
       "      <td>2</td>\n",
       "    </tr>\n",
       "    <tr>\n",
       "      <th>128</th>\n",
       "      <td>1</td>\n",
       "    </tr>\n",
       "  </tbody>\n",
       "</table>\n",
       "</div>"
      ],
      "text/plain": [
       "     Drugs\n",
       "Id        \n",
       "95       0\n",
       "15       1\n",
       "30       0\n",
       "158      2\n",
       "128      1"
      ]
     },
     "execution_count": 94,
     "metadata": {},
     "output_type": "execute_result"
    }
   ],
   "source": [
    "Drug_Insaid_RFC_Random= pd.concat ([X_Insaid_test,Insaid_drug_test_RFC_Random.set_index(X_Insaid_test.index)], axis=1)\n",
    "Drug_Insaid_RFC_Random.head()"
   ]
  },
  {
   "cell_type": "code",
   "execution_count": 95,
   "metadata": {},
   "outputs": [],
   "source": [
    "Drug_Insaid_RFC_Random.to_csv(\"submission_Insaid_drug_test_RFC_Random.csv\",index=True, header=False)"
   ]
  },
  {
   "cell_type": "code",
   "execution_count": 96,
   "metadata": {},
   "outputs": [],
   "source": [
    "from sklearn import preprocessing\n",
    "\n",
    "#Insaid_drug_test_rfc = encoder.inverse_transform(pred_Insaid_y)\n",
    "# show the dataframe\n",
    "Insaid_drug_test_rfc =pd.DataFrame(Drug_Insaid_RFC_Random)\n",
    "Insaid_drug_test_rfc.columns = ['Drugs']"
   ]
  },
  {
   "cell_type": "code",
   "execution_count": 97,
   "metadata": {},
   "outputs": [
    {
     "data": {
      "text/plain": [
       "array([[19,  0,  0,  2,  0],\n",
       "       [ 0, 32,  0,  0,  0],\n",
       "       [ 0,  0, 40,  0,  0],\n",
       "       [ 0,  0,  0, 42,  0],\n",
       "       [ 0,  0,  0,  0, 33]], dtype=int64)"
      ]
     },
     "execution_count": 97,
     "metadata": {},
     "output_type": "execute_result"
    }
   ],
   "source": [
    "# building confusion matrix\n",
    "from sklearn.metrics import confusion_matrix\n",
    "y_unique = np.unique(y_train)\n",
    "mcmRFC_Random=confusion_matrix(y_test,pred_y_test,labels = y_unique)\n",
    "mcmRFC_Random"
   ]
  },
  {
   "cell_type": "code",
   "execution_count": 98,
   "metadata": {},
   "outputs": [
    {
     "data": {
      "text/plain": [
       "<AxesSubplot:>"
      ]
     },
     "execution_count": 98,
     "metadata": {},
     "output_type": "execute_result"
    },
    {
     "data": {
      "image/png": "[encoded data removed]",
      "text/plain": [
       "<Figure size 432x288 with 2 Axes>"
      ]
     },
     "metadata": {
      "needs_background": "light"
     },
     "output_type": "display_data"
    }
   ],
   "source": [
    "import seaborn as sns\n",
    "sns.heatmap(mcmRFC_Random, annot=True,cmap='BuGn',linewidths=1, linecolor='black')"
   ]
  },
  {
   "cell_type": "code",
   "execution_count": 99,
   "metadata": {},
   "outputs": [
    {
     "name": "stdout",
     "output_type": "stream",
     "text": [
      "              precision    recall  f1-score   support\n",
      "\n",
      "           0       1.00      0.90      0.95        21\n",
      "           1       1.00      1.00      1.00        32\n",
      "           2       1.00      1.00      1.00        40\n",
      "           3       0.95      1.00      0.98        42\n",
      "           4       1.00      1.00      1.00        33\n",
      "\n",
      "    accuracy                           0.99       168\n",
      "   macro avg       0.99      0.98      0.99       168\n",
      "weighted avg       0.99      0.99      0.99       168\n",
      "\n"
     ]
    }
   ],
   "source": [
    "print(classification_report(y_test,pred_y_test))"
   ]
  },
  {
   "cell_type": "markdown",
   "metadata": {
    "colab_type": "text",
    "id": "xf36usR4gUdF"
   },
   "source": [
    "### Perform model evaluation on the test set using accuracy score."
   ]
  },
  {
   "cell_type": "code",
   "execution_count": 100,
   "metadata": {
    "colab": {},
    "colab_type": "code",
    "id": "sGpLHE8xgUdF"
   },
   "outputs": [
    {
     "name": "stdout",
     "output_type": "stream",
     "text": [
      "Accuracy score for test data is: 0.9880952380952381\n"
     ]
    }
   ],
   "source": [
    "import numpy as np\n",
    "from sklearn.metrics import accuracy_score\n",
    "\n",
    "preds2 = np.where(rfc_random.predict_proba(X_test)[:,1]> 0.25,1,0)\n",
    "print('Accuracy score for test data is:', accuracy_score(y_test,pred_y_test))# compute and print the accuracy score\n",
    "    \n"
   ]
  },
  {
   "cell_type": "markdown",
   "metadata": {
    "colab_type": "text",
    "id": "GHt_iEyMgUdf"
   },
   "source": [
    "###  Fit the Gaussian NB model on X_train and y_train also print the time taken by the classifier. "
   ]
  },
  {
   "cell_type": "code",
   "execution_count": 101,
   "metadata": {},
   "outputs": [
    {
     "data": {
      "text/plain": [
       "GaussianNB()"
      ]
     },
     "execution_count": 101,
     "metadata": {},
     "output_type": "execute_result"
    }
   ],
   "source": [
    "from sklearn.naive_bayes import GaussianNB\n",
    "classifier = GaussianNB()\n",
    "classifier.fit(X_train, y_train)"
   ]
  },
  {
   "cell_type": "code",
   "execution_count": 102,
   "metadata": {},
   "outputs": [],
   "source": [
    "pred_y_test_GNB = pd.DataFrame()\n",
    "def generate():\n",
    "    # predictions\n",
    "    pred_y_test_GNB =classifier.predict(X_test)# create the model prediction on X_test data using the above created dataframe\n",
    "    return pred_y_test_GNB\n",
    "pred_y_test_GNB = generate()\n"
   ]
  },
  {
   "cell_type": "code",
   "execution_count": 103,
   "metadata": {},
   "outputs": [],
   "source": [
    "pred_Insaid_y_GNB = pd.DataFrame()\n",
    "def generate():\n",
    "    # predictions\n",
    "    pred_Insaid_y_GNB = classifier.predict(X_Insaid_test_s)# create the model prediction on X_test data using the above created dataframe\n",
    "    return pred_Insaid_y_GNB\n",
    "pred_Insaid_y_GNB = generate()"
   ]
  },
  {
   "cell_type": "code",
   "execution_count": 104,
   "metadata": {},
   "outputs": [
    {
     "name": "stdout",
     "output_type": "stream",
     "text": [
      "[1 3 0 2 1 4 1 0 3 0 3 1 2 3 4 1 4 0 2 1 4 1 0 1 1 1 2 0 1 1 1 2 2 1 3 1 1\n",
      " 3 3 3]\n"
     ]
    }
   ],
   "source": [
    "print(pred_Insaid_y_GNB)"
   ]
  },
  {
   "cell_type": "code",
   "execution_count": 105,
   "metadata": {},
   "outputs": [
    {
     "data": {
      "text/html": [
       "<div>\n",
       "<style scoped>\n",
       "    .dataframe tbody tr th:only-of-type {\n",
       "        vertical-align: middle;\n",
       "    }\n",
       "\n",
       "    .dataframe tbody tr th {\n",
       "        vertical-align: top;\n",
       "    }\n",
       "\n",
       "    .dataframe thead th {\n",
       "        text-align: right;\n",
       "    }\n",
       "</style>\n",
       "<table border=\"1\" class=\"dataframe\">\n",
       "  <thead>\n",
       "    <tr style=\"text-align: right;\">\n",
       "      <th></th>\n",
       "      <th>Drugs</th>\n",
       "    </tr>\n",
       "  </thead>\n",
       "  <tbody>\n",
       "    <tr>\n",
       "      <th>0</th>\n",
       "      <td>1</td>\n",
       "    </tr>\n",
       "    <tr>\n",
       "      <th>1</th>\n",
       "      <td>3</td>\n",
       "    </tr>\n",
       "    <tr>\n",
       "      <th>2</th>\n",
       "      <td>0</td>\n",
       "    </tr>\n",
       "    <tr>\n",
       "      <th>3</th>\n",
       "      <td>2</td>\n",
       "    </tr>\n",
       "    <tr>\n",
       "      <th>4</th>\n",
       "      <td>1</td>\n",
       "    </tr>\n",
       "  </tbody>\n",
       "</table>\n",
       "</div>"
      ],
      "text/plain": [
       "   Drugs\n",
       "0      1\n",
       "1      3\n",
       "2      0\n",
       "3      2\n",
       "4      1"
      ]
     },
     "execution_count": 105,
     "metadata": {},
     "output_type": "execute_result"
    }
   ],
   "source": [
    "from sklearn import preprocessing\n",
    "\n",
    "#Insaid_drug_test_GNB = encoder.inverse_transform(pred_Insaid_y_GNB)\n",
    "Insaid_drug_test_GNB=pd.DataFrame(pred_Insaid_y_GNB)\n",
    "Insaid_drug_test_GNB.columns = ['Drugs']\n",
    "Insaid_drug_test_GNB.head()"
   ]
  },
  {
   "cell_type": "code",
   "execution_count": 106,
   "metadata": {},
   "outputs": [
    {
     "data": {
      "text/html": [
       "<div>\n",
       "<style scoped>\n",
       "    .dataframe tbody tr th:only-of-type {\n",
       "        vertical-align: middle;\n",
       "    }\n",
       "\n",
       "    .dataframe tbody tr th {\n",
       "        vertical-align: top;\n",
       "    }\n",
       "\n",
       "    .dataframe thead th {\n",
       "        text-align: right;\n",
       "    }\n",
       "</style>\n",
       "<table border=\"1\" class=\"dataframe\">\n",
       "  <thead>\n",
       "    <tr style=\"text-align: right;\">\n",
       "      <th></th>\n",
       "      <th>Drugs</th>\n",
       "    </tr>\n",
       "    <tr>\n",
       "      <th>Id</th>\n",
       "      <th></th>\n",
       "    </tr>\n",
       "  </thead>\n",
       "  <tbody>\n",
       "    <tr>\n",
       "      <th>95</th>\n",
       "      <td>1</td>\n",
       "    </tr>\n",
       "    <tr>\n",
       "      <th>15</th>\n",
       "      <td>3</td>\n",
       "    </tr>\n",
       "    <tr>\n",
       "      <th>30</th>\n",
       "      <td>0</td>\n",
       "    </tr>\n",
       "    <tr>\n",
       "      <th>158</th>\n",
       "      <td>2</td>\n",
       "    </tr>\n",
       "    <tr>\n",
       "      <th>128</th>\n",
       "      <td>1</td>\n",
       "    </tr>\n",
       "  </tbody>\n",
       "</table>\n",
       "</div>"
      ],
      "text/plain": [
       "     Drugs\n",
       "Id        \n",
       "95       1\n",
       "15       3\n",
       "30       0\n",
       "158      2\n",
       "128      1"
      ]
     },
     "execution_count": 106,
     "metadata": {},
     "output_type": "execute_result"
    }
   ],
   "source": [
    "Drug_Insaid_GNB= pd.concat ([X_Insaid_test,Insaid_drug_test_GNB.set_index(X_Insaid_test.index)], axis=1)\n",
    "Drug_Insaid_GNB.head()"
   ]
  },
  {
   "cell_type": "code",
   "execution_count": 107,
   "metadata": {},
   "outputs": [],
   "source": [
    "Drug_Insaid_GNB.to_csv(\"submission_Insaid_drug_test_GNB.csv\",index=True, header=False)"
   ]
  },
  {
   "cell_type": "code",
   "execution_count": 108,
   "metadata": {},
   "outputs": [
    {
     "data": {
      "text/plain": [
       "array([[19,  0,  0,  2,  0],\n",
       "       [ 0, 32,  0,  0,  0],\n",
       "       [ 0,  0, 40,  0,  0],\n",
       "       [ 0,  0,  0, 42,  0],\n",
       "       [ 0,  0,  0,  0, 33]], dtype=int64)"
      ]
     },
     "execution_count": 108,
     "metadata": {},
     "output_type": "execute_result"
    }
   ],
   "source": [
    "# building confusion matrix\n",
    "from sklearn.metrics import confusion_matrix\n",
    "y_unique = np.unique(y_train)\n",
    "mcmGNB=confusion_matrix(y_test,pred_y_test,labels = y_unique)\n",
    "mcmGNB"
   ]
  },
  {
   "cell_type": "code",
   "execution_count": 109,
   "metadata": {},
   "outputs": [
    {
     "data": {
      "text/plain": [
       "<AxesSubplot:>"
      ]
     },
     "execution_count": 109,
     "metadata": {},
     "output_type": "execute_result"
    },
    {
     "data": {
      "image/png": "[encoded data removed]",
      "text/plain": [
       "<Figure size 432x288 with 2 Axes>"
      ]
     },
     "metadata": {
      "needs_background": "light"
     },
     "output_type": "display_data"
    }
   ],
   "source": [
    "import seaborn as sns\n",
    "sns.heatmap(mcmGNB, annot=True,cmap='BuGn',linewidths=1, linecolor='black')"
   ]
  },
  {
   "cell_type": "code",
   "execution_count": 110,
   "metadata": {},
   "outputs": [
    {
     "name": "stdout",
     "output_type": "stream",
     "text": [
      "              precision    recall  f1-score   support\n",
      "\n",
      "           0       0.94      0.76      0.84        21\n",
      "           1       0.79      0.34      0.48        32\n",
      "           2       0.85      1.00      0.92        40\n",
      "           3       0.88      1.00      0.93        42\n",
      "           4       0.79      1.00      0.88        33\n",
      "\n",
      "    accuracy                           0.85       168\n",
      "   macro avg       0.85      0.82      0.81       168\n",
      "weighted avg       0.84      0.85      0.82       168\n",
      "\n"
     ]
    }
   ],
   "source": [
    "print(classification_report(y_test,pred_y_test_GNB))"
   ]
  },
  {
   "cell_type": "code",
   "execution_count": 111,
   "metadata": {},
   "outputs": [
    {
     "name": "stdout",
     "output_type": "stream",
     "text": [
      "Accuracy score for test data is: 0.8452380952380952\n"
     ]
    }
   ],
   "source": [
    "import numpy as np\n",
    "from sklearn.metrics import accuracy_score\n",
    "\n",
    "preds2 = np.where(rfc_random.predict_proba(X_test)[:,1]> 0.25,1,0)\n",
    "print('Accuracy score for test data is:', accuracy_score(y_test,pred_y_test_GNB))# compute and print the accuracy score\n",
    "    "
   ]
  },
  {
   "cell_type": "markdown",
   "metadata": {},
   "source": [
    "# Inference from all models"
   ]
  },
  {
   "cell_type": "markdown",
   "metadata": {},
   "source": [
    "- Classifier models were tried, out of all models, Random Forest Classifier fine tuned by Randomized SearchCV gave **highest accuracy of 0.987** \n",
    "- While, **Naive Bayes gave accuracy of 0.89**"
   ]
  },
  {
   "cell_type": "code",
   "execution_count": null,
   "metadata": {},
   "outputs": [],
   "source": []
  }
 ],
 "metadata": {
  "colab": {
   "collapsed_sections": [],
   "name": "PCA Assignment_Questions.ipynb",
   "provenance": []
  },
  "kernelspec": {
   "display_name": "Python 3",
   "language": "python",
   "name": "python3"
  },
  "language_info": {
   "codemirror_mode": {
    "name": "ipython",
    "version": 3
   },
   "file_extension": ".py",
   "mimetype": "text/x-python",
   "name": "python",
   "nbconvert_exporter": "python",
   "pygments_lexer": "ipython3",
   "version": "3.8.8"
  }
 },
 "nbformat": 4,
 "nbformat_minor": 1
}
